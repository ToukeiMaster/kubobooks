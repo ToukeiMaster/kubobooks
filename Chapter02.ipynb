{
 "metadata": {
  "name": "",
  "signature": "sha256:7ec5a583a4fb0d34cab6f458270b5415ce93e720c4e9ee6b26afe9ab29d64448"
 },
 "nbformat": 3,
 "nbformat_minor": 0,
 "worksheets": [
  {
   "cells": [
    {
     "cell_type": "heading",
     "level": 2,
     "metadata": {},
     "source": [
      "Chapter02\u3000\u78ba\u7387\u5206\u5e03\u3068\u7d71\u8a08\u30e2\u30c7\u30eb\u306e\u6700\u5c24\u63a8\u5b9a"
     ]
    },
    {
     "cell_type": "heading",
     "level": 3,
     "metadata": {},
     "source": [
      "2.1 \u4f8b\u984c: \u7a2e\u5b50\u6570\u306e\u7d71\u8a08\u30e2\u30c7\u30ea\u30f3\u30b0\n",
      "    "
     ]
    },
    {
     "cell_type": "code",
     "collapsed": false,
     "input": [
      "import numpy as np\n",
      "import matplotlib.pyplot as plt\n",
      "import pandas as pd\n",
      "\n",
      "data=np.array([2, 2, 4, 6, 4, 5, 2, 3, 1, 2, 0, 4, 3, 3, 3, 3, 4, 2, 7, 2, 4, 3, 3, 3, 4, 3, 7, 5, 3, 1, 7, 6, 4, 6, 5, 2, 4, 7, 2, 2, 6, 2, 4, 5, 4, 5, 1, 3, 2, 3]) #\u7a2e\u5b50\u6570\n",
      "len(data) #\u30c7\u30fc\u30bf\u6570\n"
     ],
     "language": "python",
     "metadata": {},
     "outputs": [
      {
       "metadata": {},
       "output_type": "pyout",
       "prompt_number": 67,
       "text": [
        "50"
       ]
      }
     ],
     "prompt_number": 67
    },
    {
     "cell_type": "code",
     "collapsed": false,
     "input": [
      "print \"sum: %d, mean: %.2f, median: %.2f, min=%d, max=%d, var=%.2f, stddev=%.2f\" % (np.sum(data), np.mean(data),np.median(data),np.min(data),np.max(data),np.var(data), np.std(data))"
     ],
     "language": "python",
     "metadata": {},
     "outputs": [
      {
       "output_type": "stream",
       "stream": "stdout",
       "text": [
        "sum: 178, mean: 3.56, median: 3.00, min=0, max=7, var=2.93, stddev=1.71\n"
       ]
      }
     ],
     "prompt_number": 158
    },
    {
     "cell_type": "markdown",
     "metadata": {},
     "source": [
      "\u5404\u7a2e\u7d71\u8a08"
     ]
    },
    {
     "cell_type": "heading",
     "level": 3,
     "metadata": {},
     "source": [
      "Python \u306evariance\u306b\u3064\u3044\u3066"
     ]
    },
    {
     "cell_type": "code",
     "collapsed": false,
     "input": [
      "np.var(data) #\u30c7\u30d5\u30a9\u30eb\u30c8"
     ],
     "language": "python",
     "metadata": {},
     "outputs": [
      {
       "metadata": {},
       "output_type": "pyout",
       "prompt_number": 69,
       "text": [
        "2.9264000000000006"
       ]
      }
     ],
     "prompt_number": 69
    },
    {
     "cell_type": "markdown",
     "metadata": {},
     "source": [
      "\u30c7\u30d5\u30a9\u30eb\u30c8\u306e**np.var**\u306f\u6a19\u672c\u5206\u6563:\n",
      "$s^2=\\frac{1}{N}\\Sigma_i (x_i-\\lambda)^2$"
     ]
    },
    {
     "cell_type": "code",
     "collapsed": false,
     "input": [
      "np.var(data, ddof=1) #ddof=Delta Degrees of Freedom"
     ],
     "language": "python",
     "metadata": {},
     "outputs": [
      {
       "metadata": {},
       "output_type": "pyout",
       "prompt_number": 70,
       "text": [
        "2.9861224489795921"
       ]
      }
     ],
     "prompt_number": 70
    },
    {
     "cell_type": "markdown",
     "metadata": {},
     "source": [
      "ddof=1 (True)\u3067\u4e0d\u504f\u5206\u6563: $v^2=\\frac{1}{N-1}\\Sigma_i (x_i-\\lambda)^2$\n",
      "\n",
      "(pandas \u306f\u4e0d\u504f\u5206\u6563\u304c\u30c7\u30d5\u30a9\u30eb\u30c8\u306a\u306e\u3067\u6ce8\u610f\uff01)"
     ]
    },
    {
     "cell_type": "heading",
     "level": 3,
     "metadata": {},
     "source": [
      "Histogram"
     ]
    },
    {
     "cell_type": "code",
     "collapsed": false,
     "input": [
      "plt.hist(data, range=(-0.5,9.5),bins=10, color='grey')\n",
      "plt.xlabel('data')\n",
      "plt.ylabel('Frequency')"
     ],
     "language": "python",
     "metadata": {},
     "outputs": [
      {
       "metadata": {},
       "output_type": "pyout",
       "prompt_number": 71,
       "text": [
        "<matplotlib.text.Text at 0x108313b10>"
       ]
      },
      {
       "metadata": {},
       "output_type": "display_data",
       "png": "[encoded data removed]",
       "text": [
        "<matplotlib.figure.Figure at 0x1082cbe50>"
       ]
      }
     ],
     "prompt_number": 71
    },
    {
     "cell_type": "heading",
     "level": 3,
     "metadata": {},
     "source": [
      "Poisson\u5206\u5e03"
     ]
    },
    {
     "cell_type": "markdown",
     "metadata": {},
     "source": [
      "Poisson\u5206\u5e03\u306e\u5c0e\u51fa: **\u4e8c\u9805\u5206\u5e03\u306e\u6975\u9650**\n",
      "\\begin{eqnarray}\n",
      "P_B(k;n,p)&=&_nC_k p^k(1-p)^{n-k}\\\\\n",
      "&\\to& \\frac{\\lambda^ke^{-\\lambda}}{k!} \\  (n\\to\\infty, \\lambda=np)\\\\\n",
      "&=&P_P(k;\\lambda)\n",
      "\\end{eqnarray}\n",
      "\n",
      "\n",
      "\u305f\u3060\u3057k\u304cn\u306b\u5bfe\u3057\u3066\u5341\u5206\u5c0f\u3055\u3044\u6642\u3001\u3064\u307e\u308a\u305d\u308c\u307b\u3069\u983b\u5ea6\u304c\u9ad8\u304f\u306a\u3044\u4e8b\u8c61\u3092\u8868\u73fe\u3059\u308b\u306e\u306b\u6709\u52b9"
     ]
    },
    {
     "cell_type": "code",
     "collapsed": false,
     "input": [
      "from scipy.stats import poisson\n",
      "\n",
      "x=np.arange(0,20)\n",
      "mu_value=range(1,10,2)\n",
      "for mu in mu_value:\n",
      "    plt.plot(x,poisson.pmf(x, mu=mu), alpha=1, label=r'$\\lambda$=%d'% mu)\n",
      "\n",
      "plt.legend()\n",
      "plt.xlabel('k')\n",
      "plt.ylabel('Frequency')\n",
      "plt.title(r'Poisson Distribution: $P_P(k;\\lambda)$')\n",
      "plt.show()"
     ],
     "language": "python",
     "metadata": {},
     "outputs": [
      {
       "metadata": {},
       "output_type": "display_data",
       "png": "[encoded data removed]",
       "text": [
        "<matplotlib.figure.Figure at 0x10afbe550>"
       ]
      }
     ],
     "prompt_number": 114
    },
    {
     "cell_type": "heading",
     "level": 3,
     "metadata": {},
     "source": [
      "\u4f8b\u984c\u306e\u5834\u5408($\\lambda=3.56$)\u306ePoisson\u5206\u5e03"
     ]
    },
    {
     "cell_type": "code",
     "collapsed": false,
     "input": [
      "d_poisson=pd.DataFrame(np.array([x,poisson.pmf(x, mu=np.mean(data))]).transpose()) #\u4f8b\u984c\u306e\u5834\u5408\u306ePoisson\u5206\u5e03\n",
      "d_poisson"
     ],
     "language": "python",
     "metadata": {},
     "outputs": [
      {
       "html": [
        "<div style=\"max-height:1000px;max-width:1500px;overflow:auto;\">\n",
        "<table border=\"1\" class=\"dataframe\">\n",
        "  <thead>\n",
        "    <tr style=\"text-align: right;\">\n",
        "      <th></th>\n",
        "      <th>0</th>\n",
        "      <th>1</th>\n",
        "    </tr>\n",
        "  </thead>\n",
        "  <tbody>\n",
        "    <tr>\n",
        "      <th>0 </th>\n",
        "      <td>  0</td>\n",
        "      <td> 2.843882e-02</td>\n",
        "    </tr>\n",
        "    <tr>\n",
        "      <th>1 </th>\n",
        "      <td>  1</td>\n",
        "      <td> 1.012422e-01</td>\n",
        "    </tr>\n",
        "    <tr>\n",
        "      <th>2 </th>\n",
        "      <td>  2</td>\n",
        "      <td> 1.802111e-01</td>\n",
        "    </tr>\n",
        "    <tr>\n",
        "      <th>3 </th>\n",
        "      <td>  3</td>\n",
        "      <td> 2.138506e-01</td>\n",
        "    </tr>\n",
        "    <tr>\n",
        "      <th>4 </th>\n",
        "      <td>  4</td>\n",
        "      <td> 1.903270e-01</td>\n",
        "    </tr>\n",
        "    <tr>\n",
        "      <th>5 </th>\n",
        "      <td>  5</td>\n",
        "      <td> 1.355128e-01</td>\n",
        "    </tr>\n",
        "    <tr>\n",
        "      <th>6 </th>\n",
        "      <td>  6</td>\n",
        "      <td> 8.040427e-02</td>\n",
        "    </tr>\n",
        "    <tr>\n",
        "      <th>7 </th>\n",
        "      <td>  7</td>\n",
        "      <td> 4.089132e-02</td>\n",
        "    </tr>\n",
        "    <tr>\n",
        "      <th>8 </th>\n",
        "      <td>  8</td>\n",
        "      <td> 1.819664e-02</td>\n",
        "    </tr>\n",
        "    <tr>\n",
        "      <th>9 </th>\n",
        "      <td>  9</td>\n",
        "      <td> 7.197780e-03</td>\n",
        "    </tr>\n",
        "    <tr>\n",
        "      <th>10</th>\n",
        "      <td> 10</td>\n",
        "      <td> 2.562410e-03</td>\n",
        "    </tr>\n",
        "    <tr>\n",
        "      <th>11</th>\n",
        "      <td> 11</td>\n",
        "      <td> 8.292890e-04</td>\n",
        "    </tr>\n",
        "    <tr>\n",
        "      <th>12</th>\n",
        "      <td> 12</td>\n",
        "      <td> 2.460224e-04</td>\n",
        "    </tr>\n",
        "    <tr>\n",
        "      <th>13</th>\n",
        "      <td> 13</td>\n",
        "      <td> 6.737229e-05</td>\n",
        "    </tr>\n",
        "    <tr>\n",
        "      <th>14</th>\n",
        "      <td> 14</td>\n",
        "      <td> 1.713181e-05</td>\n",
        "    </tr>\n",
        "    <tr>\n",
        "      <th>15</th>\n",
        "      <td> 15</td>\n",
        "      <td> 4.065950e-06</td>\n",
        "    </tr>\n",
        "    <tr>\n",
        "      <th>16</th>\n",
        "      <td> 16</td>\n",
        "      <td> 9.046738e-07</td>\n",
        "    </tr>\n",
        "    <tr>\n",
        "      <th>17</th>\n",
        "      <td> 17</td>\n",
        "      <td> 1.894493e-07</td>\n",
        "    </tr>\n",
        "    <tr>\n",
        "      <th>18</th>\n",
        "      <td> 18</td>\n",
        "      <td> 3.746887e-08</td>\n",
        "    </tr>\n",
        "    <tr>\n",
        "      <th>19</th>\n",
        "      <td> 19</td>\n",
        "      <td> 7.020483e-09</td>\n",
        "    </tr>\n",
        "  </tbody>\n",
        "</table>\n",
        "<p>20 rows \u00d7 2 columns</p>\n",
        "</div>"
       ],
       "metadata": {},
       "output_type": "pyout",
       "prompt_number": 74,
       "text": [
        "     0             1\n",
        "0    0  2.843882e-02\n",
        "1    1  1.012422e-01\n",
        "2    2  1.802111e-01\n",
        "3    3  2.138506e-01\n",
        "4    4  1.903270e-01\n",
        "5    5  1.355128e-01\n",
        "6    6  8.040427e-02\n",
        "7    7  4.089132e-02\n",
        "8    8  1.819664e-02\n",
        "9    9  7.197780e-03\n",
        "10  10  2.562410e-03\n",
        "11  11  8.292890e-04\n",
        "12  12  2.460224e-04\n",
        "13  13  6.737229e-05\n",
        "14  14  1.713181e-05\n",
        "15  15  4.065950e-06\n",
        "16  16  9.046738e-07\n",
        "17  17  1.894493e-07\n",
        "18  18  3.746887e-08\n",
        "19  19  7.020483e-09\n",
        "\n",
        "[20 rows x 2 columns]"
       ]
      }
     ],
     "prompt_number": 74
    },
    {
     "cell_type": "code",
     "collapsed": false,
     "input": [
      "plt.hist(data, range=(-0.5,9.5),bins=10, alpha=0.5, color='orange', zorder=0, normed=True, label='Data')\n",
      "plt.plot(x,poisson.pmf(x, mu=np.mean(data)),'ro-', lw=2, alpha=1, label=r'Poission ($\\lambda$=%.2f)'% np.mean(data))\n",
      "plt.axvline(x=np.mean(data), color='blue', ls='--', lw=2)\n",
      "plt.xlim(0,10)\n",
      "plt.xlabel('k')\n",
      "plt.legend()\n",
      "plt.ylabel(r'Frequency: $P_P(k;\\lambda)$')\n",
      "plt.title(r'Poisson Distribution: $P_P(k;\\lambda=%.2f)$' % np.mean(data))"
     ],
     "language": "python",
     "metadata": {},
     "outputs": [
      {
       "metadata": {},
       "output_type": "pyout",
       "prompt_number": 107,
       "text": [
        "<matplotlib.text.Text at 0x10af2b9d0>"
       ]
      },
      {
       "metadata": {},
       "output_type": "display_data",
       "png": "[encoded data removed]",
       "text": [
        "<matplotlib.figure.Figure at 0x10aa93650>"
       ]
      }
     ],
     "prompt_number": 107
    },
    {
     "cell_type": "markdown",
     "metadata": {},
     "source": [
      "Poisson\u5206\u5e03\u3067\u3088\u304f\u8868\u73fe\u3067\u304d\u3066\u3044\u308b\u3088\u3046\u306b\u898b\u3048\u308b"
     ]
    },
    {
     "cell_type": "heading",
     "level": 3,
     "metadata": {},
     "source": [
      "Poisson\u5206\u5e03\u306e\u6027\u8cea"
     ]
    },
    {
     "cell_type": "markdown",
     "metadata": {},
     "source": [
      "\u5e73\u5747($\\lambda$)\uff1d\u5206\u6563"
     ]
    },
    {
     "cell_type": "heading",
     "level": 3,
     "metadata": {},
     "source": [
      "Poisson\u5206\u5e03\u3067\u8868\u3055\u308c\u308b\u30c7\u30fc\u30bf\u306e\u7279\u5fb4"
     ]
    },
    {
     "cell_type": "markdown",
     "metadata": {},
     "source": [
      "* k\u304c\u975e\u8ca0\u306e\u6574\u6570\n",
      "* k\u306b\u4e0b\u9650(\uff10)\u306f\u3042\u308b\u304c\u4e0a\u9650\u306f\u3088\u304f\u308f\u304b\u3089\u306a\u3044\n",
      "* \u5e73\u5747\u3068\u5206\u6563\u304c\u304a\u304a\u3088\u305d\u7b49\u3057\u3044"
     ]
    },
    {
     "cell_type": "heading",
     "level": 3,
     "metadata": {},
     "source": [
      "2.4 \u6700\u5c24\u63a8\u5b9a (maximum likelihood estimation)"
     ]
    },
    {
     "cell_type": "markdown",
     "metadata": {},
     "source": [
      "\u5c24\u5ea6(likelihood): $L(\\lambda)$"
     ]
    },
    {
     "cell_type": "markdown",
     "metadata": {},
     "source": [
      "Poisson\u5206\u5e03\u306e\u5834\u5408: \n",
      "\\begin{eqnarray}\n",
      "L(\\lambda)&=&p(y_1;\\lambda)p(y_2;\\lambda)p(y_3;\\lambda)\\cdots p(y_n;\\lambda)\\\\\n",
      "&=&\\Pi_ip(y_i;\\lambda)=\\Pi_i\\frac{\\lambda^ye^{-\\lambda}}{y_i!}\n",
      "\\end{eqnarray}\n",
      "\u3064\u307e\u308a\u3001\u5e73\u5747\u304c$\\lambda$\u306e\u6642\u306b\u500b\u4f53 $i$\u3067$y_i$\u304c\u89b3\u5bdf\u3055\u308c\u308b\u78ba\u7387\u306e\u7a4d\u3067\u8868\u73fe\u3055\u308c\u308b"
     ]
    },
    {
     "cell_type": "markdown",
     "metadata": {},
     "source": [
      "\u901a\u5e38\u306f\u3001\u3053\u308c\u3092\u5bfe\u6570\u8868\u793a\u3057\u305f**\u5bfe\u6570\u5c24\u5ea6\u95a2\u6570: $logL(\\lambda)$**\u304c\u4f7f\u308f\u308c\u308b"
     ]
    },
    {
     "cell_type": "markdown",
     "metadata": {},
     "source": [
      "\\begin{equation}\n",
      "log L(\\lambda)=\\Sigma_i\\left(y_i\\log\\lambda-\\lambda-\\Sigma_k^{y_i}\\log k\\right)\n",
      "\\end{equation}"
     ]
    },
    {
     "cell_type": "code",
     "collapsed": false,
     "input": [
      "def logL(lam):\n",
      "    return np.sum(poisson.logpmf(data,mu=lam))\n",
      "\n",
      "plt.figure()\n",
      "lmd_value=np.arange(2,5,0.1)\n",
      "for lmd in lmd_value:\n",
      "    logL_P=logL(lmd)\n",
      "    plt.plot(lmd,logL_P, 'bo')\n",
      "    \n",
      "    \n",
      "plt.axvline(x=3.56, ls='--', c='grey')\n",
      "plt.xlabel(r'$\\lambda$')\n",
      "plt.ylabel(r'$\\logL(\\lambda)$')\n",
      "plt.show()"
     ],
     "language": "python",
     "metadata": {},
     "outputs": [
      {
       "metadata": {},
       "output_type": "display_data",
       "png": "[encoded data removed]",
       "text": [
        "<matplotlib.figure.Figure at 0x10afda150>"
       ]
      }
     ],
     "prompt_number": 164
    },
    {
     "cell_type": "markdown",
     "metadata": {},
     "source": [
      "$\\lambda\\sim3.5-3.6$\u3067\u6700\u5927"
     ]
    },
    {
     "cell_type": "markdown",
     "metadata": {},
     "source": [
      "\u5b9f\u969b\u3001\u504f\u5fae\u5206\u3057\u3066\n",
      "\\begin{eqnarray}\n",
      "\\frac{\\partial L(\\lambda)}{\\partial \\lambda}&=&\\frac{1}{\\lambda}\\Sigma_iy_i-50=0\\\\\n",
      "\\Leftrightarrow \\lambda &=&3.56\n",
      "\\end{eqnarray}\n",
      "\u3088\u308a\u3001$\\hat{\\lambda}=3.56$**(\u6700\u5c24\u63a8\u5b9a\u5024)**\u306e\u6642\u306b$log L(\\lambda)$\u6700\u5927\n"
     ]
    },
    {
     "cell_type": "heading",
     "level": 3,
     "metadata": {},
     "source": [
      "\u4e71\u6570\u751f\u6210"
     ]
    },
    {
     "cell_type": "code",
     "collapsed": false,
     "input": [
      "rand_p = np.random.poisson(lam=3.56, size=10000) # generage poisson random numbers\n",
      "plt.hist(rand_p,range=(-0.5,9.5),bins=10,alpha=0.5,color='lime', normed=True, label='Poisson')\n",
      "#plt.hist(data, range=(-0.5,9.5),bins=10,alpha=0.5, color='grey',normed=True, label='Data', zorder=0)\n",
      "plt.legend()\n",
      "plt.xlabel('N')\n",
      "plt.ylabel('Normalized Frequency')"
     ],
     "language": "python",
     "metadata": {},
     "outputs": [
      {
       "metadata": {},
       "output_type": "pyout",
       "prompt_number": 189,
       "text": [
        "<matplotlib.text.Text at 0x10e537190>"
       ]
      },
      {
       "metadata": {},
       "output_type": "display_data",
       "png": "[encoded data removed]",
       "text": [
        "<matplotlib.figure.Figure at 0x10e1b6550>"
       ]
      }
     ],
     "prompt_number": 189
    },
    {
     "cell_type": "code",
     "collapsed": false,
     "input": [],
     "language": "python",
     "metadata": {},
     "outputs": []
    }
   ],
   "metadata": {}
  }
 ]
}