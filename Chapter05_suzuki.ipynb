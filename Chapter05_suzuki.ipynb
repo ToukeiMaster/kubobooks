{
 "metadata": {
  "name": "",
  "signature": "sha256:b19c118f21a9b7ffbcee05124f7f2958c0f44a59e0032b2ec6c61098dc07a75a"
 },
 "nbformat": 3,
 "nbformat_minor": 0,
 "worksheets": [
  {
   "cells": [
    {
     "cell_type": "heading",
     "level": 2,
     "metadata": {},
     "source": [
      "Chapter 5   GLM\u306e\u5c24\u5ea6\u6bd4\u691c\u5b9a\u3068\u691c\u5b9a\u306e\u975e\u5bfe\u79f0\u6027"
     ]
    },
    {
     "cell_type": "markdown",
     "metadata": {},
     "source": [
      "5.1 \u7d71\u8a08\u5b66\u7684\u306a\u691c\u5b9a\u306e\u67a0\u7d44\u307f\n",
      "\n",
      "\u691c\u5b9a\u306e\u624b\u9806\n",
      "\n",
      "\u7528\u3044\u308b\u30c7\u30fc\u30bf\u3092\u78ba\u5b9a --> \u30c7\u30fc\u30bf\u3092\u8aac\u660e\u3059\u308b\u7d71\u8a08\u30e2\u30c7\u30eb\uff08\u5e30\u7121\u4eee\u8aac\u3068\u5bfe\u7acb\u4eee\u8aac\uff09\u3092\u8a2d\u5b9a\u3057\u3001\u30d1\u30e9\u30e1\u30fc\u30bf\u3092\u6700\u5c24\u63a8\u5b9a\u3000\n",
      "\n",
      "--> \u5e30\u7121\u4eee\u8aac\u3092\u5b89\u5168\u306b\u68c4\u5374\u3067\u304d\u308b\u304b\u3069\u3046\u304b\u305d\u306e\u5371\u967a\u6027\u3092\u8a55\u4fa1 (P\u5024\u3092\u6c42\u3081\u308b) --> \u6709\u610f\u6c34\u6e96\u03b1\u3068\u6bd4\u8f03\u3057\u3066\u3001\u68c4\u5374\u3067\u304d\u308b\u304b\u3092\u5224\u65ad\u3059\u308b\n"
     ]
    },
    {
     "cell_type": "markdown",
     "metadata": {},
     "source": [
      "5.2 \u9038\u8131\u5ea6\u306e\u5dee\u3092\u8abf\u3079\u308b\n",
      "\n",
      "\u4f8b\uff1a\u3075\u305f\u3064\u306e\u30e2\u30c7\u30eb --> \u4e00\u5b9a\u30e2\u30c7\u30eb\u3068 x \u30e2\u30c7\u30eb\n",
      "\n",
      "\u30dd\u30a2\u30bd\u30f3\u56de\u5e30\u306e\u7d50\u679c\u3001\u9038\u8131\u5ea6\u3092\u6bd4\u8f03\u3059\u308b\u3068\u305d\u306e\u5dee\u306f4.5\u7a0b\u5ea6"
     ]
    },
    {
     "cell_type": "code",
     "collapsed": false,
     "input": [
      "import numpy as np\n",
      "import matplotlib.pyplot as plt\n",
      "import pandas as pd\n",
      "import scipy.stats as sct\n",
      "\n",
      "# data in Chapter 3\n",
      "data_pd = pd.read_csv('./data3a.csv')\n",
      "\n",
      "data_pd.describe()"
     ],
     "language": "python",
     "metadata": {},
     "outputs": [
      {
       "html": [
        "<div style=\"max-height:1000px;max-width:1500px;overflow:auto;\">\n",
        "<table border=\"1\" class=\"dataframe\">\n",
        "  <thead>\n",
        "    <tr style=\"text-align: right;\">\n",
        "      <th></th>\n",
        "      <th>y</th>\n",
        "      <th>x</th>\n",
        "    </tr>\n",
        "  </thead>\n",
        "  <tbody>\n",
        "    <tr>\n",
        "      <th>count</th>\n",
        "      <td> 100.000000</td>\n",
        "      <td> 100.000000</td>\n",
        "    </tr>\n",
        "    <tr>\n",
        "      <th>mean</th>\n",
        "      <td>   7.830000</td>\n",
        "      <td>  10.089100</td>\n",
        "    </tr>\n",
        "    <tr>\n",
        "      <th>std</th>\n",
        "      <td>   2.624881</td>\n",
        "      <td>   1.008049</td>\n",
        "    </tr>\n",
        "    <tr>\n",
        "      <th>min</th>\n",
        "      <td>   2.000000</td>\n",
        "      <td>   7.190000</td>\n",
        "    </tr>\n",
        "    <tr>\n",
        "      <th>25%</th>\n",
        "      <td>   6.000000</td>\n",
        "      <td>   9.427500</td>\n",
        "    </tr>\n",
        "    <tr>\n",
        "      <th>50%</th>\n",
        "      <td>   8.000000</td>\n",
        "      <td>  10.155000</td>\n",
        "    </tr>\n",
        "    <tr>\n",
        "      <th>75%</th>\n",
        "      <td>  10.000000</td>\n",
        "      <td>  10.685000</td>\n",
        "    </tr>\n",
        "    <tr>\n",
        "      <th>max</th>\n",
        "      <td>  15.000000</td>\n",
        "      <td>  12.400000</td>\n",
        "    </tr>\n",
        "  </tbody>\n",
        "</table>\n",
        "</div>"
       ],
       "metadata": {},
       "output_type": "pyout",
       "prompt_number": 1,
       "text": [
        "                y           x\n",
        "count  100.000000  100.000000\n",
        "mean     7.830000   10.089100\n",
        "std      2.624881    1.008049\n",
        "min      2.000000    7.190000\n",
        "25%      6.000000    9.427500\n",
        "50%      8.000000   10.155000\n",
        "75%     10.000000   10.685000\n",
        "max     15.000000   12.400000"
       ]
      }
     ],
     "prompt_number": 1
    },
    {
     "cell_type": "markdown",
     "metadata": {},
     "source": [
      "GLM\u306b\u3088\u308b\u63a8\u5b9a\u7d50\u679c\u3092\u307e\u305a\u51fa\u3059\u3002"
     ]
    },
    {
     "cell_type": "code",
     "collapsed": false,
     "input": [
      "## Poisson \n",
      "import statsmodels.api as sm\n",
      "import statsmodels.formula.api as smf\n",
      "\n",
      "model = smf.glm('y ~ x', data = data_pd, family=sm.families.Poisson())  ## input data should be read by pandas??\n",
      "fit2 = model.fit()\n",
      "print fit2.summary()"
     ],
     "language": "python",
     "metadata": {},
     "outputs": [
      {
       "output_type": "stream",
       "stream": "stdout",
       "text": [
        "                 Generalized Linear Model Regression Results                  \n",
        "==============================================================================\n",
        "Dep. Variable:                      y   No. Observations:                  100\n",
        "Model:                            GLM   Df Residuals:                       98\n",
        "Model Family:                 Poisson   Df Model:                            1\n",
        "Link Function:                    log   Scale:                             1.0\n",
        "Method:                          IRLS   Log-Likelihood:                -235.39\n",
        "Date:                Mon, 09 May 2016   Deviance:                       84.993\n",
        "Time:                        18:07:12   Pearson chi2:                     83.8\n",
        "No. Iterations:                     7                                         \n",
        "==============================================================================\n",
        "                 coef    std err          z      P>|z|      [95.0% Conf. Int.]\n",
        "------------------------------------------------------------------------------\n",
        "Intercept      1.2917      0.364      3.552      0.000         0.579     2.005\n",
        "x              0.0757      0.036      2.125      0.034         0.006     0.145\n",
        "==============================================================================\n"
       ]
      }
     ],
     "prompt_number": 2
    },
    {
     "cell_type": "code",
     "collapsed": false,
     "input": [
      "fit2.deviance   ## residual deviance  : D = -2log(L*)  x model - full model"
     ],
     "language": "python",
     "metadata": {},
     "outputs": [
      {
       "metadata": {},
       "output_type": "pyout",
       "prompt_number": 3,
       "text": [
        "84.992996490728416"
       ]
      }
     ],
     "prompt_number": 3
    },
    {
     "cell_type": "markdown",
     "metadata": {},
     "source": [
      " D = -2log(L*) \n",
      "\n",
      "\u6b8b\u5dee\u9038\u8131\u5ea6\u3000\u0394D =  D(x model) - D(full model)"
     ]
    },
    {
     "cell_type": "code",
     "collapsed": false,
     "input": [
      "model = smf.glm('y ~ 1', data = data_pd, family=sm.families.Poisson())  \n",
      "fit1 = model.fit()\n",
      "print fit1.summary()"
     ],
     "language": "python",
     "metadata": {},
     "outputs": [
      {
       "output_type": "stream",
       "stream": "stdout",
       "text": [
        "                 Generalized Linear Model Regression Results                  \n",
        "==============================================================================\n",
        "Dep. Variable:                      y   No. Observations:                  100\n",
        "Model:                            GLM   Df Residuals:                       99\n",
        "Model Family:                 Poisson   Df Model:                            0\n",
        "Link Function:                    log   Scale:                             1.0\n",
        "Method:                          IRLS   Log-Likelihood:                -237.64\n",
        "Date:                Mon, 09 May 2016   Deviance:                       89.507\n",
        "Time:                        18:07:16   Pearson chi2:                     87.1\n",
        "No. Iterations:                     7                                         \n",
        "==============================================================================\n",
        "                 coef    std err          z      P>|z|      [95.0% Conf. Int.]\n",
        "------------------------------------------------------------------------------\n",
        "Intercept      2.0580      0.036     57.586      0.000         1.988     2.128\n",
        "==============================================================================\n"
       ]
      }
     ],
     "prompt_number": 4
    },
    {
     "cell_type": "code",
     "collapsed": false,
     "input": [
      "fit1.deviance"
     ],
     "language": "python",
     "metadata": {},
     "outputs": [
      {
       "metadata": {},
       "output_type": "pyout",
       "prompt_number": 5,
       "text": [
        "89.50693756958313"
       ]
      }
     ],
     "prompt_number": 5
    },
    {
     "cell_type": "markdown",
     "metadata": {},
     "source": [
      "\u5c24\u5ea6\u6bd4\u691c\u5b9a\u3067\u306f\u3001\n",
      "\u6700\u5927\u5c24\u5ea6\u306e\u6bd4\u306b\u5bfe\u6570\u3092\u3068\u3063\u3066-2\u3092\u639b\u3051\u305f\u5024\u3000=\u3000\u9038\u8131\u5ea6\u306e\u5dee\n",
      "\u3092\u691c\u5b9a\u7d71\u8a08\u91cf\u3068\u3057\u3066\u4f7f\u3063\u3066\u3001\u7d71\u8a08\u30e2\u30c7\u30eb\u306e\u691c\u5b9a\u3092\u884c\u3046\u3002\n",
      "\n",
      "\u9038\u8131\u5ea6\u306e\u5dee\uff1a\u0394D1,2\u3000\n",
      "\u306f\u3001\u3075\u305f\u3064\u306e\u30e2\u30c7\u30eb\u306e\u9038\u8131\u5ea6\u306e\u5dee\u306b\u306a\u3063\u3066\u3044\u308b\u3002"
     ]
    },
    {
     "cell_type": "code",
     "collapsed": false,
     "input": [
      "## Delta D_1,2\n",
      "fit1.deviance - fit2.deviance"
     ],
     "language": "python",
     "metadata": {},
     "outputs": [
      {
       "metadata": {},
       "output_type": "pyout",
       "prompt_number": 6,
       "text": [
        "4.5139410788547139"
       ]
      }
     ],
     "prompt_number": 6
    },
    {
     "cell_type": "markdown",
     "metadata": {},
     "source": [
      "5.4 \u5e30\u7121\u4eee\u8aac\u3092\u68c4\u5374\u3059\u308b\u305f\u3081\u306e\u6709\u610f\u6c34\u6e96\n",
      "\n",
      "\u4e00\u5b9a\u30e2\u30c7\u30eb\u3068x\u30e2\u30c7\u30eb\u306e\u9038\u8131\u5ea6\u306e\u5dee\u304c\u3001$\\Delta D_{1,2}$=4.5 \n",
      "\n",
      "\u5e30\u7121\u4eee\u8aac\u300c\u4e00\u5b9a\u30e2\u30c7\u30eb\u304c\u771f\u306e\u30e2\u30c7\u30eb\u3067\u3042\u308b\u300d\u306b\u304a\u3044\u3066\u3001\u691c\u5b9a\u7d71\u8a08\u91cf $\\Delta D_{1,2}$ \u304c4.5\u3088\u308a\u5927\u304d\u304f\u306a\u308b\u78ba\u7387\u3092\u8003\u3048\u308b\u3002\n",
      "\n",
      "\u3053\u308c\u306f\u3001\u7b2c\u4e00\u7a2e\u306e\u904e\u8aa4(\u771f\u306e\u30e2\u30c7\u30eb\u304c\u6b63\u3057\u3044\u306f\u305a\u306a\u306e\u306b\u3001$\\Delta D_{1,2}$ \u306e\u5024\u304c\u3081\u3063\u305f\u306b\u306a\u3044\u5dee\u306b\u306a\u3063\u3066\u3044\u308b\u5834\u5408)\u3092\u304a\u304b\u3059\u78ba\u7387\u3002\n",
      "\n",
      "\u3053\u306e\u78ba\u7387(P\u5024)\u304c\u5927\u304d\u3051\u308c\u3070\u3001$\\Delta D_{1,2}$=4.5 \u3068\u306a\u308b\u306e\u306f\"\u3088\u304f\u3042\u308b\u3053\u3068\"\u3000--> \u5e30\u7121\u4eee\u8aac\u3092\u68c4\u5374\u3067\u304d\u306a\u3044\n",
      "\n",
      "\u5c0f\u3055\u3051\u308c\u3070\u3001$\\Delta D_{1,2}$=4.5 \u3068\u306a\u308b\u306e\u306f\"\u73cd\u3057\u3044\"\u3000\u3000\u3000\u3000--> \u5e30\u7121\u4eee\u8aac\u3092\u68c4\u5374\u3067\u304d\u308b\n",
      "\n",
      "\u3068\u3044\u3046\u5177\u5408\u3002\n",
      "\n",
      "\u305d\u306e\u5224\u65ad\u57fa\u6e96\u306f\u3001\u6709\u610f\u6c34\u6e96\u03b1\u3092\u6c7a\u3081\u3066\u305d\u308c\u3092\u57fa\u6e96\u306b\u5224\u65ad\u3059\u308b\u3002\u5b8c\u5168\u306b\u4efb\u610f\u306b\u03b1\u306f\u6c7a\u3081\u308b\u3002\n",
      "\u3088\u304f\u4f7f\u308f\u308c\u308b\u306e\u306f\u03b1=0.05 \n",
      "\n"
     ]
    },
    {
     "cell_type": "markdown",
     "metadata": {},
     "source": [
      "\u3067\u306fP\u5024\u306f\u3069\u306e\u3088\u3046\u306b\u8a08\u7b97\u3059\u308b\u304b\uff1f\uff1f\n",
      "1. Parametric bootstrap \u6cd5\u3000\n",
      "\u3000\u771f\u306e\u30e2\u30c7\u30eb\u306b\u5f93\u3046\u305f\u304f\u3055\u3093\u306e\u30c7\u30fc\u30bf\u751f\u6210\u3092\u4e71\u6570\u767a\u751f\u306e\u30b7\u30df\u30e5\u30ec\u30fc\u30b7\u30e7\u30f3\u306b\u5f93\u3063\u3066\u884c\u3046\u65b9\u6cd5\u3002"
     ]
    },
    {
     "cell_type": "code",
     "collapsed": false,
     "input": [
      "## ln(lambda) = beta_1 = 2.06 \n",
      "## lambda = 7.85 \n",
      "## \u5e73\u5747 7.85 \u306e100\u500b\u306epoisson \u4e71\u6570\u3092\u751f\u6210\n",
      "from numpy.random import *\n",
      "\n",
      "y_rand = poisson(lam=7.85, size=100)\n",
      "\n",
      "print np.mean(y_rand)"
     ],
     "language": "python",
     "metadata": {},
     "outputs": [
      {
       "output_type": "stream",
       "stream": "stdout",
       "text": [
        "7.94\n"
       ]
      }
     ],
     "prompt_number": 7
    },
    {
     "cell_type": "code",
     "collapsed": false,
     "input": [
      "## fit two models to this data\n",
      "## \u4ecafit \u3057\u305f\u3044\u306e\u306f\u3001\u4e0a\u3067\u4f5c\u3063\u305f\u30dd\u30a2\u30bd\u30f3\u4e71\u6570100\u500b\u306e\u30c7\u30fc\u30bf\u3002\n",
      "## \u771f\u306e\u30e2\u30c7\u30eb\u306f\u500b\u4f53\u306e\u30b5\u30a4\u30ba\u306b\u4f9d\u5b58\u3057\u306a\u3044\u3068\u3044\u3046\u30e2\u30c7\u30eb\u306e\u57fa\u3067\u3064\u304f\u3063\u3066\u3044\u308b\u306e\u3067\u3001\n",
      "## \u5b9f\u969b x \u306e\u9805\u306f\u95a2\u4fc2\u306a\u3044\u306f\u305a\u3002\n",
      "\n",
      "## pandas\u306e\u5f62\u5f0f\u3067\u30d5\u30a1\u30a4\u30eb\u3092\u4f5c\u6210\u3002\n",
      "data3a=np.array(data_pd)\n",
      "data_y = data3a[:,0].astype('f')\n",
      "size=data3a[:,1].astype('f')\n",
      "\n",
      "data1_pd = pd.DataFrame({'y': y_rand, 'x': size})\n",
      "\n",
      "#print data1_pd\n",
      "\n",
      "model = smf.glm('y_rand ~ 1', data = data1_pd, family=sm.families.Poisson())  \n",
      "fit1 = model.fit()\n",
      "\n",
      "model = smf.glm('y_rand ~ x', data = data1_pd, family=sm.families.Poisson())  \n",
      "fit2 = model.fit()\n",
      "\n",
      "fit1.deviance - fit2.deviance\n"
     ],
     "language": "python",
     "metadata": {},
     "outputs": [
      {
       "metadata": {},
       "output_type": "pyout",
       "prompt_number": 8,
       "text": [
        "0.0034308133854779044"
       ]
      }
     ],
     "prompt_number": 8
    },
    {
     "cell_type": "markdown",
     "metadata": {},
     "source": [
      "\u3053\u308c\u3092\u7e70\u308a\u8fd4\u3057\u3066\u3001\u9038\u8131\u5dee\u306e\u5206\u5e03\u3092\u8abf\u3079\u308b\u3002"
     ]
    },
    {
     "cell_type": "code",
     "collapsed": false,
     "input": [
      "\n",
      "## 1000\u56de\u7e70\u308a\u8fd4\u3057\u3066\u5206\u5e03\u3092\u8abf\u3079\u308b\n",
      "Delta_D = np.empty(1000)\n",
      "\n",
      "for ii in range(0,1000): \n",
      "    y_mean = np.mean(data_y)\n",
      "    y_rand = poisson(lam=y_mean, size=100)\n",
      "    \n",
      "    data_rand = pd.DataFrame({'y': y_rand, 'x':size})\n",
      "    \n",
      "    model = smf.glm('y_rand ~ 1', data = data_rand, family=sm.families.Poisson())  \n",
      "    fit1 = model.fit()\n",
      "\n",
      "    model = smf.glm('y_rand ~ x', data = data_rand, family=sm.families.Poisson())  \n",
      "    fit2 = model.fit()\n",
      "    \n",
      "    Delta_D[ii] = fit1.deviance - fit2.deviance\n",
      "    \n",
      "    #print dev[ii]\n"
     ],
     "language": "python",
     "metadata": {},
     "outputs": [],
     "prompt_number": 17
    },
    {
     "cell_type": "code",
     "collapsed": false,
     "input": [
      "## summary\n",
      "dev = pd.Series(Delta_D)\n",
      "\n",
      "dev.describe()"
     ],
     "language": "python",
     "metadata": {},
     "outputs": [
      {
       "metadata": {},
       "output_type": "pyout",
       "prompt_number": 18,
       "text": [
        "count    1.000000e+03\n",
        "mean     8.765390e-01\n",
        "std      1.209911e+00\n",
        "min      5.877203e-08\n",
        "25%      7.377555e-02\n",
        "50%      3.682580e-01\n",
        "75%      1.164764e+00\n",
        "max      7.928574e+00\n",
        "dtype: float64"
       ]
      }
     ],
     "prompt_number": 18
    },
    {
     "cell_type": "code",
     "collapsed": false,
     "input": [
      "## make histograms\n",
      "plt.hist(dev, bins=100, alpha=0.5, range = (0.0,10.0), histtype='stepfilled')\n",
      "plt.plot([4.5,4.5], [0.0,300.0], 'k--')\n",
      "\n",
      "plt.show()"
     ],
     "language": "python",
     "metadata": {},
     "outputs": [
      {
       "metadata": {},
       "output_type": "display_data",
       "png": "[encoded data removed]",
       "text": [
        "<matplotlib.figure.Figure at 0x10a11b790>"
       ]
      }
     ],
     "prompt_number": 19
    },
    {
     "cell_type": "code",
     "collapsed": false,
     "input": [
      "print sum(dev>=4.5)"
     ],
     "language": "python",
     "metadata": {},
     "outputs": [
      {
       "output_type": "stream",
       "stream": "stdout",
       "text": [
        "29\n"
       ]
      }
     ],
     "prompt_number": 20
    },
    {
     "cell_type": "markdown",
     "metadata": {},
     "source": [
      "\u9038\u8131\u5ea6\u306e\u5dee\u304c4.5\u3088\u308a\u5927\u304d\u304f\u306a\u308b\u78ba\u7387 29/1000 = 0.029"
     ]
    },
    {
     "cell_type": "code",
     "collapsed": false,
     "input": [
      "## P=0.05\u3068\u306a\u308b\u9038\u8131\u5ea6\u306e\u5dee??(\u68c4\u5374\u70b9)\n",
      "dev.quantile(0.95)"
     ],
     "language": "python",
     "metadata": {},
     "outputs": [
      {
       "metadata": {},
       "output_type": "pyout",
       "prompt_number": 21,
       "text": [
        "3.4072934842932407"
       ]
      }
     ],
     "prompt_number": 21
    },
    {
     "cell_type": "raw",
     "metadata": {},
     "source": [
      "\u7d50\u8ad6\u3068\u3057\u3066\u306f\u3001\n",
      "\n",
      "\u9038\u8131\u5ea6\u306e\u5dee4.5\u306eP\u5024\u306f\u6709\u610f\u6c34\u6e96\u3067\u3042\u308b0.05\u3088\u308a\u3082\u5c0f\u3055\u3044\u306e\u3067\u3001\u5e30\u7121\u4eee\u8aac\u300c\u4e00\u5b9a\u30e2\u30c7\u30eb\u300d\u306f\u68c4\u5374\u3055\u308c\u3001\u305d\u306e\u7d50\u679c x \u30e2\u30c7\u30eb\u304c\u6b8b\u308b\u3002\n",
      "\u305d\u308c\u304c\u7d71\u8a08\u30e2\u30c7\u30eb\u3068\u3057\u3066\u63a1\u629e\u3055\u308c\u308b\u3002\n",
      "\n",
      "\u3068\u3044\u3046\u3053\u3068\u306b\u306a\u308b\u3002"
     ]
    },
    {
     "cell_type": "markdown",
     "metadata": {},
     "source": [
      "2. $\\chi^2$ \u5206\u5e03\u3092\u4f7f\u3063\u305f\u8fd1\u4f3c\u8a08\u7b97\u6cd5\u3000\uff08PB\u6cd5\u3088\u308a\u304a\u624b\u8efd\u3060\u304c\u3001\u30b5\u30f3\u30d7\u30eb\u30b5\u30a4\u30ba\u304c\u5927\u304d\u3044\u5834\u5408\u306b\u306e\u307f\u6709\u52b9\uff09"
     ]
    },
    {
     "cell_type": "raw",
     "metadata": {},
     "source": [
      "anova (analysis of variance) \n",
      "-- > statsmodels\u306b\u306fglm\u306b\u5bfe\u3059\u308banova\u304c\u306a\u3044\u3089\u3057\u3044 \u306e\u3067\u3001R\u3067\u3084\u3063\u3066\u307f\u308b\n",
      "\u9038\u8131\u5ea6\u306e\u5dee\u306e\u5206\u5e03\u3092\u81ea\u7531\u5ea61\u306echai-square \u5206\u5e03\u3067\u8fd1\u4f3c\u3057\u3066\u3001P\u5024\u3092\u6c42\u3081\u308b\u3002 \n",
      "\n",
      "\n",
      "> fit1 <- glm(y~1, data = d, family=poisson)\n",
      "> fit2 <- glm(y~x, data = d, family=poisson)\n",
      "> \n",
      "> anova(fit1, fit2, test=\"Chisq\")\n",
      "Analysis of Deviance Table\n",
      "\n",
      "Model 1: y ~ 1\n",
      "Model 2: y ~ x\n",
      "  Resid. Df Resid. Dev Df Deviance Pr(>Chi)  \n",
      "1        99     89.507                       \n",
      "2        98     84.993  1   4.5139  0.03362 *\n",
      "\n",
      "\u3068\u306a\u308a\u3001Pr(>Chi) = 0.034 \u3068\u3044\u3046\u7d50\u679c\u304c\u5f97\u3089\u308c\u305f\u3002\n",
      "P\u5024 < 0.05\u3067\u3042\u308b\u306e\u3067\u3001\u540c\u3058\u304f\u5e30\u7121\u4eee\u8aac\u306f\u68c4\u5374\u3055\u308c\u308b\u3002\n",
      "\n",
      "1.\u3067\u6c42\u3081\u305fP\u5024\u3068\u82e5\u5e72\u7570\u306a\u308b\u5024\u306b\u306a\u3063\u3066\u3044\u308b\u3002\n"
     ]
    },
    {
     "cell_type": "raw",
     "metadata": {},
     "source": [
      "\u203b P >= \u03b1 \u3068\u306a\u3063\u305f\u5834\u5408\uff1f\uff1f\n",
      "\u3000\u300c\u5e30\u7121\u4eee\u8aac\u306f\u68c4\u5374\u3067\u304d\u306a\u3044\u300d\u3068\u3044\u3046\u7d50\u8ad6\u304c\u5f97\u3089\u308c\u308b\u3002\n",
      "\u3000\uff1d\u5e30\u7121\u4eee\u8aac\u30fb\u5bfe\u7acb\u4eee\u8aac\u3068\u3082\u306b\u6b63\u3057\u3044\u3068\u3082\u6b63\u3057\u304f\u306a\u3044\u3068\u3082\u5224\u65ad\u304c\u3067\u304d\u306a\u3044\u3002"
     ]
    },
    {
     "cell_type": "raw",
     "metadata": {},
     "source": [
      "\u203b\u691c\u5b9a\u3068\u30e2\u30c7\u30eb\u9078\u629e\n",
      "\u3000\u5c24\u5ea6\u6bd4\u691c\u5b9a\u306a\u3069\u306e\u7d71\u8a08\u5b66\u7684\u306a\u691c\u5b9a\u306e\u76ee\u7684\u306f\u3001\u5e30\u7121\u4eee\u8aac\u306e\u5b89\u5168\u306a\u68c4\u5374\u3067\u3042\u308a\u3001\u68c4\u5374\u3055\u308c\u305f\u5834\u5408\u306b\u6b8b\u3063\u305f\u3082\u3046\u4e00\u65b9\u306e\u4eee\u8aac\u304c\u300c\u826f\u3044\u300d\u30e2\u30c7\u30eb\u3067\u3042\u308b\u304b\u3069\u3046\u304b\u306f\u660e\u78ba\u3067\u306f\u306a\u3044\u3002(\u691c\u5b9a\u306e\u975e\u5bfe\u79f0\u6027)"
     ]
    },
    {
     "cell_type": "code",
     "collapsed": false,
     "input": [],
     "language": "python",
     "metadata": {},
     "outputs": []
    }
   ],
   "metadata": {}
  }
 ]
}