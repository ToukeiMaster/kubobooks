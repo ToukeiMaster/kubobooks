{
 "cells": [
  {
   "cell_type": "markdown",
   "metadata": {},
   "source": [
    "# Chapter 6. GLMの応用範囲をひろげる - ロジスティック回帰など -"
   ]
  },
  {
   "cell_type": "raw",
   "metadata": {},
   "source": [
    "様々なGLMについて解説\n",
    "ex.)ロジスティック回帰：「ある出来事が発生する確率」の統計モデル\n",
    "ポアソン回帰のオフセット項わざ：人口密度等の割り算値を扱う\n",
    "正規分布、ガンマ分布等"
   ]
  },
  {
   "cell_type": "raw",
   "metadata": {},
   "source": [
    "6.1 様々な種類のデータで応用できるGLM\n",
    "\n",
    "2-5章では、統計モデルの考え方・使い方について学んできた(ポアソン分布・対数リンク関数のGLMのみを使用)\n",
    "GLMは確率分布・リンク関数・線形予測子の組み合わせにより、さまざまなタイプのデータを表現できる\n",
    "→色々試してみましょう(表6.1)\n",
    "\n",
    "6.2 例題：上限のあるカウントデータ"
   ]
  },
  {
   "cell_type": "code",
   "execution_count": 92,
   "metadata": {
    "collapsed": false
   },
   "outputs": [],
   "source": [
    "import pandas as pd\n",
    "import numpy as np\n",
    "import matplotlib.pyplot as plt\n",
    "import math\n",
    "from matplotlib.pyplot import *\n",
    "from matplotlib import lines"
   ]
  },
  {
   "cell_type": "code",
   "execution_count": 5,
   "metadata": {
    "collapsed": false
   },
   "outputs": [],
   "source": [
    "data4a_pd=pd.read_csv('./data4a.csv')"
   ]
  },
  {
   "cell_type": "raw",
   "metadata": {},
   "source": [
    "N : 観察した種子の数(今回は全て8、異なっていてもロジスティック回帰で表現可能)\n",
    "y : 生存種子数\n",
    "x : 植物の体サイズ\n",
    "f : 施肥処理"
   ]
  },
  {
   "cell_type": "code",
   "execution_count": 5,
   "metadata": {
    "collapsed": false
   },
   "outputs": [
    {
     "data": {
      "text/html": [
       "<div style=\"max-height:1000px;max-width:1500px;overflow:auto;\">\n",
       "<table border=\"1\" class=\"dataframe\">\n",
       "  <thead>\n",
       "    <tr style=\"text-align: right;\">\n",
       "      <th></th>\n",
       "      <th>N</th>\n",
       "      <th>y</th>\n",
       "      <th>x</th>\n",
       "      <th>f</th>\n",
       "    </tr>\n",
       "  </thead>\n",
       "  <tbody>\n",
       "    <tr>\n",
       "      <th>0 </th>\n",
       "      <td> 8</td>\n",
       "      <td> 1</td>\n",
       "      <td>  9.76</td>\n",
       "      <td> C</td>\n",
       "    </tr>\n",
       "    <tr>\n",
       "      <th>1 </th>\n",
       "      <td> 8</td>\n",
       "      <td> 6</td>\n",
       "      <td> 10.48</td>\n",
       "      <td> C</td>\n",
       "    </tr>\n",
       "    <tr>\n",
       "      <th>2 </th>\n",
       "      <td> 8</td>\n",
       "      <td> 5</td>\n",
       "      <td> 10.83</td>\n",
       "      <td> C</td>\n",
       "    </tr>\n",
       "    <tr>\n",
       "      <th>3 </th>\n",
       "      <td> 8</td>\n",
       "      <td> 6</td>\n",
       "      <td> 10.94</td>\n",
       "      <td> C</td>\n",
       "    </tr>\n",
       "    <tr>\n",
       "      <th>4 </th>\n",
       "      <td> 8</td>\n",
       "      <td> 1</td>\n",
       "      <td>  9.37</td>\n",
       "      <td> C</td>\n",
       "    </tr>\n",
       "    <tr>\n",
       "      <th>5 </th>\n",
       "      <td> 8</td>\n",
       "      <td> 1</td>\n",
       "      <td>  8.81</td>\n",
       "      <td> C</td>\n",
       "    </tr>\n",
       "    <tr>\n",
       "      <th>6 </th>\n",
       "      <td> 8</td>\n",
       "      <td> 3</td>\n",
       "      <td>  9.49</td>\n",
       "      <td> C</td>\n",
       "    </tr>\n",
       "    <tr>\n",
       "      <th>7 </th>\n",
       "      <td> 8</td>\n",
       "      <td> 6</td>\n",
       "      <td> 11.02</td>\n",
       "      <td> C</td>\n",
       "    </tr>\n",
       "    <tr>\n",
       "      <th>8 </th>\n",
       "      <td> 8</td>\n",
       "      <td> 0</td>\n",
       "      <td>  7.97</td>\n",
       "      <td> C</td>\n",
       "    </tr>\n",
       "    <tr>\n",
       "      <th>9 </th>\n",
       "      <td> 8</td>\n",
       "      <td> 8</td>\n",
       "      <td> 11.55</td>\n",
       "      <td> C</td>\n",
       "    </tr>\n",
       "    <tr>\n",
       "      <th>10</th>\n",
       "      <td> 8</td>\n",
       "      <td> 0</td>\n",
       "      <td>  9.46</td>\n",
       "      <td> C</td>\n",
       "    </tr>\n",
       "    <tr>\n",
       "      <th>11</th>\n",
       "      <td> 8</td>\n",
       "      <td> 2</td>\n",
       "      <td>  9.47</td>\n",
       "      <td> C</td>\n",
       "    </tr>\n",
       "    <tr>\n",
       "      <th>12</th>\n",
       "      <td> 8</td>\n",
       "      <td> 0</td>\n",
       "      <td>  8.71</td>\n",
       "      <td> C</td>\n",
       "    </tr>\n",
       "    <tr>\n",
       "      <th>13</th>\n",
       "      <td> 8</td>\n",
       "      <td> 5</td>\n",
       "      <td> 10.42</td>\n",
       "      <td> C</td>\n",
       "    </tr>\n",
       "    <tr>\n",
       "      <th>14</th>\n",
       "      <td> 8</td>\n",
       "      <td> 3</td>\n",
       "      <td> 10.06</td>\n",
       "      <td> C</td>\n",
       "    </tr>\n",
       "    <tr>\n",
       "      <th>15</th>\n",
       "      <td> 8</td>\n",
       "      <td> 6</td>\n",
       "      <td> 11.00</td>\n",
       "      <td> C</td>\n",
       "    </tr>\n",
       "    <tr>\n",
       "      <th>16</th>\n",
       "      <td> 8</td>\n",
       "      <td> 3</td>\n",
       "      <td>  9.95</td>\n",
       "      <td> C</td>\n",
       "    </tr>\n",
       "    <tr>\n",
       "      <th>17</th>\n",
       "      <td> 8</td>\n",
       "      <td> 4</td>\n",
       "      <td>  9.52</td>\n",
       "      <td> C</td>\n",
       "    </tr>\n",
       "    <tr>\n",
       "      <th>18</th>\n",
       "      <td> 8</td>\n",
       "      <td> 5</td>\n",
       "      <td> 10.26</td>\n",
       "      <td> C</td>\n",
       "    </tr>\n",
       "    <tr>\n",
       "      <th>19</th>\n",
       "      <td> 8</td>\n",
       "      <td> 8</td>\n",
       "      <td> 11.33</td>\n",
       "      <td> C</td>\n",
       "    </tr>\n",
       "    <tr>\n",
       "      <th>20</th>\n",
       "      <td> 8</td>\n",
       "      <td> 5</td>\n",
       "      <td>  9.77</td>\n",
       "      <td> C</td>\n",
       "    </tr>\n",
       "    <tr>\n",
       "      <th>21</th>\n",
       "      <td> 8</td>\n",
       "      <td> 8</td>\n",
       "      <td> 10.59</td>\n",
       "      <td> C</td>\n",
       "    </tr>\n",
       "    <tr>\n",
       "      <th>22</th>\n",
       "      <td> 8</td>\n",
       "      <td> 1</td>\n",
       "      <td>  9.35</td>\n",
       "      <td> C</td>\n",
       "    </tr>\n",
       "    <tr>\n",
       "      <th>23</th>\n",
       "      <td> 8</td>\n",
       "      <td> 4</td>\n",
       "      <td> 10.00</td>\n",
       "      <td> C</td>\n",
       "    </tr>\n",
       "    <tr>\n",
       "      <th>24</th>\n",
       "      <td> 8</td>\n",
       "      <td> 1</td>\n",
       "      <td>  9.53</td>\n",
       "      <td> C</td>\n",
       "    </tr>\n",
       "    <tr>\n",
       "      <th>25</th>\n",
       "      <td> 8</td>\n",
       "      <td> 8</td>\n",
       "      <td> 12.06</td>\n",
       "      <td> C</td>\n",
       "    </tr>\n",
       "    <tr>\n",
       "      <th>26</th>\n",
       "      <td> 8</td>\n",
       "      <td> 4</td>\n",
       "      <td>  9.68</td>\n",
       "      <td> C</td>\n",
       "    </tr>\n",
       "    <tr>\n",
       "      <th>27</th>\n",
       "      <td> 8</td>\n",
       "      <td> 7</td>\n",
       "      <td> 11.32</td>\n",
       "      <td> C</td>\n",
       "    </tr>\n",
       "    <tr>\n",
       "      <th>28</th>\n",
       "      <td> 8</td>\n",
       "      <td> 5</td>\n",
       "      <td> 10.48</td>\n",
       "      <td> C</td>\n",
       "    </tr>\n",
       "    <tr>\n",
       "      <th>29</th>\n",
       "      <td> 8</td>\n",
       "      <td> 5</td>\n",
       "      <td> 10.37</td>\n",
       "      <td> C</td>\n",
       "    </tr>\n",
       "    <tr>\n",
       "      <th>30</th>\n",
       "      <td> 8</td>\n",
       "      <td> 8</td>\n",
       "      <td> 11.33</td>\n",
       "      <td> C</td>\n",
       "    </tr>\n",
       "    <tr>\n",
       "      <th>31</th>\n",
       "      <td> 8</td>\n",
       "      <td> 1</td>\n",
       "      <td>  9.42</td>\n",
       "      <td> C</td>\n",
       "    </tr>\n",
       "    <tr>\n",
       "      <th>32</th>\n",
       "      <td> 8</td>\n",
       "      <td> 7</td>\n",
       "      <td> 10.68</td>\n",
       "      <td> C</td>\n",
       "    </tr>\n",
       "    <tr>\n",
       "      <th>33</th>\n",
       "      <td> 8</td>\n",
       "      <td> 1</td>\n",
       "      <td>  7.91</td>\n",
       "      <td> C</td>\n",
       "    </tr>\n",
       "    <tr>\n",
       "      <th>34</th>\n",
       "      <td> 8</td>\n",
       "      <td> 3</td>\n",
       "      <td>  9.39</td>\n",
       "      <td> C</td>\n",
       "    </tr>\n",
       "    <tr>\n",
       "      <th>35</th>\n",
       "      <td> 8</td>\n",
       "      <td> 8</td>\n",
       "      <td> 11.65</td>\n",
       "      <td> C</td>\n",
       "    </tr>\n",
       "    <tr>\n",
       "      <th>36</th>\n",
       "      <td> 8</td>\n",
       "      <td> 6</td>\n",
       "      <td> 10.66</td>\n",
       "      <td> C</td>\n",
       "    </tr>\n",
       "    <tr>\n",
       "      <th>37</th>\n",
       "      <td> 8</td>\n",
       "      <td> 7</td>\n",
       "      <td> 11.23</td>\n",
       "      <td> C</td>\n",
       "    </tr>\n",
       "    <tr>\n",
       "      <th>38</th>\n",
       "      <td> 8</td>\n",
       "      <td> 7</td>\n",
       "      <td> 10.57</td>\n",
       "      <td> C</td>\n",
       "    </tr>\n",
       "    <tr>\n",
       "      <th>39</th>\n",
       "      <td> 8</td>\n",
       "      <td> 4</td>\n",
       "      <td> 10.42</td>\n",
       "      <td> C</td>\n",
       "    </tr>\n",
       "    <tr>\n",
       "      <th>40</th>\n",
       "      <td> 8</td>\n",
       "      <td> 7</td>\n",
       "      <td> 11.73</td>\n",
       "      <td> C</td>\n",
       "    </tr>\n",
       "    <tr>\n",
       "      <th>41</th>\n",
       "      <td> 8</td>\n",
       "      <td> 8</td>\n",
       "      <td> 12.02</td>\n",
       "      <td> C</td>\n",
       "    </tr>\n",
       "    <tr>\n",
       "      <th>42</th>\n",
       "      <td> 8</td>\n",
       "      <td> 8</td>\n",
       "      <td> 11.55</td>\n",
       "      <td> C</td>\n",
       "    </tr>\n",
       "    <tr>\n",
       "      <th>43</th>\n",
       "      <td> 8</td>\n",
       "      <td> 0</td>\n",
       "      <td>  8.58</td>\n",
       "      <td> C</td>\n",
       "    </tr>\n",
       "    <tr>\n",
       "      <th>44</th>\n",
       "      <td> 8</td>\n",
       "      <td> 6</td>\n",
       "      <td> 11.08</td>\n",
       "      <td> C</td>\n",
       "    </tr>\n",
       "    <tr>\n",
       "      <th>45</th>\n",
       "      <td> 8</td>\n",
       "      <td> 5</td>\n",
       "      <td> 10.49</td>\n",
       "      <td> C</td>\n",
       "    </tr>\n",
       "    <tr>\n",
       "      <th>46</th>\n",
       "      <td> 8</td>\n",
       "      <td> 8</td>\n",
       "      <td> 11.12</td>\n",
       "      <td> C</td>\n",
       "    </tr>\n",
       "    <tr>\n",
       "      <th>47</th>\n",
       "      <td> 8</td>\n",
       "      <td> 3</td>\n",
       "      <td>  8.99</td>\n",
       "      <td> C</td>\n",
       "    </tr>\n",
       "    <tr>\n",
       "      <th>48</th>\n",
       "      <td> 8</td>\n",
       "      <td> 8</td>\n",
       "      <td> 10.08</td>\n",
       "      <td> C</td>\n",
       "    </tr>\n",
       "    <tr>\n",
       "      <th>49</th>\n",
       "      <td> 8</td>\n",
       "      <td> 8</td>\n",
       "      <td> 10.80</td>\n",
       "      <td> C</td>\n",
       "    </tr>\n",
       "    <tr>\n",
       "      <th>50</th>\n",
       "      <td> 8</td>\n",
       "      <td> 0</td>\n",
       "      <td>  7.83</td>\n",
       "      <td> T</td>\n",
       "    </tr>\n",
       "    <tr>\n",
       "      <th>51</th>\n",
       "      <td> 8</td>\n",
       "      <td> 5</td>\n",
       "      <td>  8.88</td>\n",
       "      <td> T</td>\n",
       "    </tr>\n",
       "    <tr>\n",
       "      <th>52</th>\n",
       "      <td> 8</td>\n",
       "      <td> 5</td>\n",
       "      <td>  9.74</td>\n",
       "      <td> T</td>\n",
       "    </tr>\n",
       "    <tr>\n",
       "      <th>53</th>\n",
       "      <td> 8</td>\n",
       "      <td> 8</td>\n",
       "      <td>  9.98</td>\n",
       "      <td> T</td>\n",
       "    </tr>\n",
       "    <tr>\n",
       "      <th>54</th>\n",
       "      <td> 8</td>\n",
       "      <td> 3</td>\n",
       "      <td>  8.46</td>\n",
       "      <td> T</td>\n",
       "    </tr>\n",
       "    <tr>\n",
       "      <th>55</th>\n",
       "      <td> 8</td>\n",
       "      <td> 2</td>\n",
       "      <td>  7.96</td>\n",
       "      <td> T</td>\n",
       "    </tr>\n",
       "    <tr>\n",
       "      <th>56</th>\n",
       "      <td> 8</td>\n",
       "      <td> 7</td>\n",
       "      <td>  9.78</td>\n",
       "      <td> T</td>\n",
       "    </tr>\n",
       "    <tr>\n",
       "      <th>57</th>\n",
       "      <td> 8</td>\n",
       "      <td> 8</td>\n",
       "      <td> 11.93</td>\n",
       "      <td> T</td>\n",
       "    </tr>\n",
       "    <tr>\n",
       "      <th>58</th>\n",
       "      <td> 8</td>\n",
       "      <td> 3</td>\n",
       "      <td>  9.04</td>\n",
       "      <td> T</td>\n",
       "    </tr>\n",
       "    <tr>\n",
       "      <th>59</th>\n",
       "      <td> 8</td>\n",
       "      <td> 5</td>\n",
       "      <td> 10.14</td>\n",
       "      <td> T</td>\n",
       "    </tr>\n",
       "    <tr>\n",
       "      <th></th>\n",
       "      <td>...</td>\n",
       "      <td>...</td>\n",
       "      <td>...</td>\n",
       "      <td>...</td>\n",
       "    </tr>\n",
       "  </tbody>\n",
       "</table>\n",
       "<p>100 rows × 4 columns</p>\n",
       "</div>"
      ],
      "text/plain": [
       "    N  y      x  f\n",
       "0   8  1   9.76  C\n",
       "1   8  6  10.48  C\n",
       "2   8  5  10.83  C\n",
       "3   8  6  10.94  C\n",
       "4   8  1   9.37  C\n",
       "5   8  1   8.81  C\n",
       "6   8  3   9.49  C\n",
       "7   8  6  11.02  C\n",
       "8   8  0   7.97  C\n",
       "9   8  8  11.55  C\n",
       "10  8  0   9.46  C\n",
       "11  8  2   9.47  C\n",
       "12  8  0   8.71  C\n",
       "13  8  5  10.42  C\n",
       "14  8  3  10.06  C\n",
       "15  8  6  11.00  C\n",
       "16  8  3   9.95  C\n",
       "17  8  4   9.52  C\n",
       "18  8  5  10.26  C\n",
       "19  8  8  11.33  C\n",
       "20  8  5   9.77  C\n",
       "21  8  8  10.59  C\n",
       "22  8  1   9.35  C\n",
       "23  8  4  10.00  C\n",
       "24  8  1   9.53  C\n",
       "25  8  8  12.06  C\n",
       "26  8  4   9.68  C\n",
       "27  8  7  11.32  C\n",
       "28  8  5  10.48  C\n",
       "29  8  5  10.37  C\n",
       "30  8  8  11.33  C\n",
       "31  8  1   9.42  C\n",
       "32  8  7  10.68  C\n",
       "33  8  1   7.91  C\n",
       "34  8  3   9.39  C\n",
       "35  8  8  11.65  C\n",
       "36  8  6  10.66  C\n",
       "37  8  7  11.23  C\n",
       "38  8  7  10.57  C\n",
       "39  8  4  10.42  C\n",
       "40  8  7  11.73  C\n",
       "41  8  8  12.02  C\n",
       "42  8  8  11.55  C\n",
       "43  8  0   8.58  C\n",
       "44  8  6  11.08  C\n",
       "45  8  5  10.49  C\n",
       "46  8  8  11.12  C\n",
       "47  8  3   8.99  C\n",
       "48  8  8  10.08  C\n",
       "49  8  8  10.80  C\n",
       "50  8  0   7.83  T\n",
       "51  8  5   8.88  T\n",
       "52  8  5   9.74  T\n",
       "53  8  8   9.98  T\n",
       "54  8  3   8.46  T\n",
       "55  8  2   7.96  T\n",
       "56  8  7   9.78  T\n",
       "57  8  8  11.93  T\n",
       "58  8  3   9.04  T\n",
       "59  8  5  10.14  T\n",
       "   .. ..    ... ..\n",
       "\n",
       "[100 rows x 4 columns]"
      ]
     },
     "execution_count": 5,
     "metadata": {},
     "output_type": "execute_result"
    }
   ],
   "source": [
    "data4a_pd"
   ]
  },
  {
   "cell_type": "code",
   "execution_count": 6,
   "metadata": {
    "collapsed": false
   },
   "outputs": [
    {
     "data": {
      "text/html": [
       "<div style=\"max-height:1000px;max-width:1500px;overflow:auto;\">\n",
       "<table border=\"1\" class=\"dataframe\">\n",
       "  <thead>\n",
       "    <tr style=\"text-align: right;\">\n",
       "      <th></th>\n",
       "      <th>N</th>\n",
       "      <th>y</th>\n",
       "      <th>x</th>\n",
       "    </tr>\n",
       "  </thead>\n",
       "  <tbody>\n",
       "    <tr>\n",
       "      <th>count</th>\n",
       "      <td> 100</td>\n",
       "      <td> 100.000000</td>\n",
       "      <td> 100.000000</td>\n",
       "    </tr>\n",
       "    <tr>\n",
       "      <th>mean</th>\n",
       "      <td>   8</td>\n",
       "      <td>   5.080000</td>\n",
       "      <td>   9.967200</td>\n",
       "    </tr>\n",
       "    <tr>\n",
       "      <th>std</th>\n",
       "      <td>   0</td>\n",
       "      <td>   2.743882</td>\n",
       "      <td>   1.088954</td>\n",
       "    </tr>\n",
       "    <tr>\n",
       "      <th>min</th>\n",
       "      <td>   8</td>\n",
       "      <td>   0.000000</td>\n",
       "      <td>   7.660000</td>\n",
       "    </tr>\n",
       "    <tr>\n",
       "      <th>25%</th>\n",
       "      <td>   8</td>\n",
       "      <td>   3.000000</td>\n",
       "      <td>   9.337500</td>\n",
       "    </tr>\n",
       "    <tr>\n",
       "      <th>50%</th>\n",
       "      <td>   8</td>\n",
       "      <td>   6.000000</td>\n",
       "      <td>   9.965000</td>\n",
       "    </tr>\n",
       "    <tr>\n",
       "      <th>75%</th>\n",
       "      <td>   8</td>\n",
       "      <td>   8.000000</td>\n",
       "      <td>  10.770000</td>\n",
       "    </tr>\n",
       "    <tr>\n",
       "      <th>max</th>\n",
       "      <td>   8</td>\n",
       "      <td>   8.000000</td>\n",
       "      <td>  12.440000</td>\n",
       "    </tr>\n",
       "  </tbody>\n",
       "</table>\n",
       "<p>8 rows × 3 columns</p>\n",
       "</div>"
      ],
      "text/plain": [
       "         N           y           x\n",
       "count  100  100.000000  100.000000\n",
       "mean     8    5.080000    9.967200\n",
       "std      0    2.743882    1.088954\n",
       "min      8    0.000000    7.660000\n",
       "25%      8    3.000000    9.337500\n",
       "50%      8    6.000000    9.965000\n",
       "75%      8    8.000000   10.770000\n",
       "max      8    8.000000   12.440000\n",
       "\n",
       "[8 rows x 3 columns]"
      ]
     },
     "execution_count": 6,
     "metadata": {},
     "output_type": "execute_result"
    }
   ],
   "source": [
    "data4a_pd.describe() "
   ]
  },
  {
   "cell_type": "code",
   "execution_count": 17,
   "metadata": {
    "collapsed": false
   },
   "outputs": [
    {
     "data": {
      "text/plain": [
       "count     100\n",
       "unique      2\n",
       "top         C\n",
       "freq       50\n",
       "Name: f, dtype: object"
      ]
     },
     "execution_count": 17,
     "metadata": {},
     "output_type": "execute_result"
    }
   ],
   "source": [
    "data4a_pd.f.describe() "
   ]
  },
  {
   "cell_type": "code",
   "execution_count": 11,
   "metadata": {
    "collapsed": false
   },
   "outputs": [],
   "source": [
    "#f_C=np.where(data4a_pd['f']=='C')"
   ]
  },
  {
   "cell_type": "code",
   "execution_count": 12,
   "metadata": {
    "collapsed": false
   },
   "outputs": [],
   "source": [
    "#f_T=np.where(data4a_pd['f']=='T')"
   ]
  },
  {
   "cell_type": "code",
   "execution_count": 27,
   "metadata": {
    "collapsed": false
   },
   "outputs": [
    {
     "data": {
      "image/png": "[encoded data removed]",
      "text/plain": [
       "<matplotlib.figure.Figure at 0x1070bf6d0>"
      ]
     },
     "metadata": {},
     "output_type": "display_data"
    }
   ],
   "source": [
    "plt.scatter(data4a_pd['x'][data4a_pd['f']=='C'],data4a_pd['y'][data4a_pd['f']=='C'],label='C')\n",
    "plt.scatter(data4a_pd['x'][data4a_pd['f']=='T'],data4a_pd['y'][data4a_pd['f']=='T'],label='T',color='red')\n",
    "plt.legend(loc='upper left')\n",
    "plt.xlabel('The size of plant x')\n",
    "plt.ylabel('The number of survived seed y')\n",
    "plt.show()"
   ]
  },
  {
   "cell_type": "raw",
   "metadata": {},
   "source": [
    "どうやら\n",
    "サイズ大きいと生存しやすい\n",
    "肥料をやると生存しやすい\n",
    "といった傾向なようです。\n",
    "今回は観察種子数一定なので、\n",
    "生存種子数増加＝生存確率(ある個体から得られた1個の種子が生きている確率)の増加\n",
    "になります。"
   ]
  },
  {
   "cell_type": "raw",
   "metadata": {},
   "source": [
    "6.3 二項分布で表現する、「あり・なし」カウントデータ\n",
    "★二項分布を使用したGLM\n",
    "二項分布：上限のあるカウントデータの、値のばらつきを現す為に使用\n",
    "n回の独立試行(n個のサイコロを振る、n枚のコインを投げるなど)で、\"成功(1の目が出る、表面がでる)\"する確率pを得る事ができる\n",
    "失敗する確率q=1-p\n",
    "今回のように、「N個のうちy個が生存していた」という場合で、かつNに上限がある時に有効"
   ]
  },
  {
   "cell_type": "code",
   "execution_count": 73,
   "metadata": {
    "collapsed": false
   },
   "outputs": [],
   "source": [
    "q01=np.random.binomial(8.0,0.1,100)\n",
    "q03=np.random.binomial(8.0,0.3,100)\n",
    "q08=np.random.binomial(8.0,0.8,100)"
   ]
  },
  {
   "cell_type": "code",
   "execution_count": 74,
   "metadata": {
    "collapsed": false
   },
   "outputs": [
    {
     "data": {
      "text/plain": [
       "array([4, 6, 7, 7, 5, 8, 7, 7, 5, 6, 7, 8, 5, 5, 7, 7, 4, 7, 7, 7, 7, 7, 7,\n",
       "       6, 6, 6, 7, 6, 7, 7, 6, 6, 6, 7, 6, 6, 7, 6, 8, 5, 5, 6, 6, 7, 5, 6,\n",
       "       5, 4, 5, 5, 7, 7, 8, 6, 8, 6, 7, 7, 8, 7, 6, 7, 6, 6, 7, 7, 4, 8, 6,\n",
       "       8, 7, 5, 5, 6, 8, 7, 8, 7, 8, 6, 6, 5, 8, 5, 6, 6, 7, 8, 7, 7, 8, 6,\n",
       "       7, 7, 6, 7, 7, 8, 5, 6])"
      ]
     },
     "execution_count": 74,
     "metadata": {},
     "output_type": "execute_result"
    }
   ],
   "source": [
    "q08"
   ]
  },
  {
   "cell_type": "markdown",
   "metadata": {},
   "source": [
    "ー二項分布に従ったカウント数を出力できる\n",
    "np.random.binomial(n,p,100)\n",
    "pの確率で成功(種子が生き残る)するのをn回見て、成功回数を出力*100セット\n",
    "今回はヒストグラムを出力"
   ]
  },
  {
   "cell_type": "code",
   "execution_count": 81,
   "metadata": {
    "collapsed": false
   },
   "outputs": [],
   "source": [
    "hist_q01, bin_edges_q01 = np.histogram(q01,bins=9, range=(-0.5,8.5))\n",
    "bin_centres = (bin_edges_q01[:-1] + bin_edges_q01[1:]) / 2\n",
    "hist_q03, bin_edges_q03 = np.histogram(q03,bins=9, range=(-0.5,8.5))\n",
    "hist_q08, bin_edges_q08 = np.histogram(q08,bins=9, range=(-0.5,8.5))"
   ]
  },
  {
   "cell_type": "code",
   "execution_count": 113,
   "metadata": {
    "collapsed": false
   },
   "outputs": [
    {
     "data": {
      "text/plain": [
       "<matplotlib.text.Text at 0x1085c7b50>"
      ]
     },
     "execution_count": 113,
     "metadata": {},
     "output_type": "execute_result"
    },
    {
     "data": {
      "image/png": "[encoded data removed]",
      "text/plain": [
       "<matplotlib.figure.Figure at 0x10803aed0>"
      ]
     },
     "metadata": {},
     "output_type": "display_data"
    }
   ],
   "source": [
    "plt.plot(bin_centres,hist_q01/100.0,'b-o')\n",
    "plt.plot(bin_centres,hist_q03/100.0,'g-o')\n",
    "plt.plot(bin_centres,hist_q08/100.0,'r-o')\n",
    "plt.xlabel('The size of plant x')\n",
    "plt.ylabel('Possibility p')\n",
    "#blue:q=0.1, green:q=0.3, red:q=0.8"
   ]
  },
  {
   "cell_type": "markdown",
   "metadata": {},
   "source": [
    "**6.4 ロジスティック回帰とロジットリンク関数**   \n",
    "ロジスティック回帰は、二項分布を使った統計モデルの１つ   \n",
    "\n",
    "GLM：確率分布・リンク関数・線形予測子の組み合わせ   \n",
    "ポアソン回帰の場合、正準リンク関数は対数リンク関数   \n",
    "\n",
    "6.4.1 ロジットリンク関数   \n",
    "ロジスティック回帰の正準リンク関数として、「ロジットリンク関数」を使用   \n",
    "\n",
    "★ロジスティック関数  \n",
    "$q_{i}=logistic(z_{i})=¥frac{1}{1+exp(-z_{i})}$  \n",
    "\n",
    "$z_{i}=¥beta_{1}+¥beta_{2}x_{i}$.......(線形予測子)  "
   ]
  },
  {
   "cell_type": "code",
   "execution_count": 97,
   "metadata": {
    "collapsed": false
   },
   "outputs": [],
   "source": [
    "z_test1=np.arange(-7,7,0.001)"
   ]
  },
  {
   "cell_type": "code",
   "execution_count": 102,
   "metadata": {
    "collapsed": false
   },
   "outputs": [],
   "source": [
    "q2=1.0/(1.0+np.exp(-z_test1))"
   ]
  },
  {
   "cell_type": "code",
   "execution_count": 108,
   "metadata": {
    "collapsed": false
   },
   "outputs": [
    {
     "data": {
      "text/plain": [
       "<matplotlib.text.Text at 0x10808db10>"
      ]
     },
     "execution_count": 108,
     "metadata": {},
     "output_type": "execute_result"
    },
    {
     "data": {
      "image/png": "[encoded data removed]",
      "text/plain": [
       "<matplotlib.figure.Figure at 0x107f185d0>"
      ]
     },
     "metadata": {},
     "output_type": "display_data"
    }
   ],
   "source": [
    "plt.plot(z_test1,q2,c='k')\n",
    "plt.xlabel('linear predictor z')\n",
    "plt.ylabel('probability q')\n",
    "\n"
   ]
  },
  {
   "cell_type": "markdown",
   "metadata": {},
   "source": [
    "ロジスティック関数はこんな形で、qがzのロジスティック関数と仮定すれば、zがどんな値でも必ず  \n",
    "$z¥leq q_{i} ¥leq 1$  \n",
    "にな生存確率が身体のサイズのみに依存するとすると、\n",
    "$z_{i}=¥beta{1}+¥beta{2}x_{i}$"
   ]
  },
  {
   "cell_type": "code",
   "execution_count": 106,
   "metadata": {
    "collapsed": false
   },
   "outputs": [
    {
     "data": {
      "text/plain": [
       "<matplotlib.text.Text at 0x10853b8d0>"
      ]
     },
     "execution_count": 106,
     "metadata": {},
     "output_type": "execute_result"
    },
    {
     "data": {
      "image/png": "[encoded data removed]",
      "text/plain": [
       "<matplotlib.figure.Figure at 0x106ff7450>"
      ]
     },
     "metadata": {},
     "output_type": "display_data"
    }
   ],
   "source": [
    "x_test2=np.arange(-3,3,0.01)\n",
    "z_test2_1=0+2*x_test2\n",
    "z_test2_2=2+2*x_test2\n",
    "z_test2_3=-3+2*x_test2\n",
    "\n",
    "\n",
    "z_test3_1=0+2*x_test2\n",
    "z_test3_2=0+-1*x_test2\n",
    "z_test3_3=0+4*x_test2\n",
    "\n",
    "q2_1=1.0/(1.0+np.exp(-z_test2_1))\n",
    "q2_2=1.0/(1.0+np.exp(-z_test2_2))\n",
    "q2_3=1.0/(1.0+np.exp(-z_test2_3))\n",
    "q3_1=1.0/(1.0+np.exp(-z_test3_1))\n",
    "q3_2=1.0/(1.0+np.exp(-z_test3_2))\n",
    "q3_3=1.0/(1.0+np.exp(-z_test3_3))\n",
    "plt.plot(x_test2,q2_1,c='b')\n",
    "plt.plot(x_test2,q2_2,c='g')\n",
    "plt.plot(x_test2,q2_3,c='r')\n",
    "plt.xlabel('The size of plant x')\n",
    "plt.ylabel('probability q')\n",
    "#β2=2, blue:β1=0, green：β1=2, red:β1=-3"
   ]
  },
  {
   "cell_type": "code",
   "execution_count": null,
   "metadata": {
    "collapsed": false
   },
   "outputs": [],
   "source": []
  },
  {
   "cell_type": "code",
   "execution_count": 109,
   "metadata": {
    "collapsed": false
   },
   "outputs": [
    {
     "data": {
      "text/plain": [
       "<matplotlib.text.Text at 0x10857d4d0>"
      ]
     },
     "execution_count": 109,
     "metadata": {},
     "output_type": "execute_result"
    },
    {
     "data": {
      "image/png": "[encoded data removed]",
      "text/plain": [
       "<matplotlib.figure.Figure at 0x107f09650>"
      ]
     },
     "metadata": {},
     "output_type": "display_data"
    }
   ],
   "source": [
    "plt.plot(x_test2,q3_1,c='b')\n",
    "plt.plot(x_test2,q3_2,c='g')\n",
    "plt.plot(x_test2,q3_3,c='r')\n",
    "plt.xlabel('The size of plant x')\n",
    "plt.ylabel('probability q')\n",
    "#β1=0, blue:β2=2, green：β2=-1, red:β2=4"
   ]
  },
  {
   "cell_type": "markdown",
   "metadata": {},
   "source": [
    "ロジスティック関数を変形する  \n",
    "$¥ln{¥frac{q_{i}}{1-q_{i}}}=z_{i}$  \n",
    "この左辺をロジット関数(logit function)という"
   ]
  },
  {
   "cell_type": "markdown",
   "metadata": {},
   "source": [
    "6.4.2 パラメーター推定   \n",
    "尤度(「当てはまりの良さ」をあらわす統計量を最大にするようなパラメーター)  \n",
    "p.122式→logを取って対数尤度関数得て、最尤推定(これを最大にするβiのセットを探す)  \n"
   ]
  },
  {
   "cell_type": "code",
   "execution_count": 26,
   "metadata": {
    "collapsed": false
   },
   "outputs": [
    {
     "name": "stdout",
     "output_type": "stream",
     "text": [
      "                 Generalized Linear Model Regression Results                  \n",
      "==============================================================================\n",
      "Dep. Variable:      ['y', 'I(N - y)']   No. Observations:                  100\n",
      "Model:                            GLM   Df Residuals:                       97\n",
      "Model Family:                Binomial   Df Model:                            2\n",
      "Link Function:                  logit   Scale:                             1.0\n",
      "Method:                          IRLS   Log-Likelihood:                -133.11\n",
      "Date:                Tue, 17 May 2016   Deviance:                       123.03\n",
      "Time:                        01:52:23   Pearson chi2:                     109.\n",
      "No. Iterations:                     8                                         \n",
      "==============================================================================\n",
      "                 coef    std err          z      P>|z|      [95.0% Conf. Int.]\n",
      "------------------------------------------------------------------------------\n",
      "Intercept    -19.5361      1.414    -13.818      0.000       -22.307   -16.765\n",
      "f[T.T]         2.0215      0.231      8.740      0.000         1.568     2.475\n",
      "x              1.9524      0.139     14.059      0.000         1.680     2.225\n",
      "==============================================================================\n"
     ]
    }
   ],
   "source": [
    "import statsmodels.api as sm\n",
    "import statsmodels.formula.api as smf\n",
    "\n",
    "model = smf.glm('y + I(N-y) ~ x + f', data=data4a_pd, family=sm.families.Binomial()) #y,N-yで生存した数、死んだ数を分けている\n",
    "                                                                                    #二項分布なのでBinomial\n",
    "results = model.fit()\n",
    "print(results.summary())"
   ]
  },
  {
   "cell_type": "code",
   "execution_count": 13,
   "metadata": {
    "collapsed": false
   },
   "outputs": [],
   "source": [
    "b1, b2, b3=results.params\n",
    "x1=np.arange(data4a_pd['x'][data4a_pd['f']=='C'].min(),data4a_pd['x'][data4a_pd['f']=='C'].max(),0.1)\n",
    "x2=np.arange(data4a_pd['x'][data4a_pd['f']=='T'].min(),data4a_pd['x'][data4a_pd['f']=='T'].max(),0.1)\n",
    "\n",
    "d1=1.0\n",
    "z1_C=b1+b2*x1\n",
    "z1_T=b1+b2*x2+b3*d1\n",
    "plt.scatter(data4a_pd['x'][data4a_pd['f']=='C'],data4a_pd['y'][data4a_pd['f']=='C'],label='C')\n",
    "plt.scatter(data4a_pd['x'][data4a_pd['f']=='T'],data4a_pd['y'][data4a_pd['f']=='T'],label='T',c='r')\n",
    "plt.plot(x1,x1*1/(1+np.exp(-z1_C)),c='b')\n",
    "plt.plot(x2,x2*1/(1+np.exp(-z1_T)),c='r')\n",
    "plt.legend(loc='upper left')\n",
    "plt.xlabel('The size of plant x')\n",
    "plt.ylabel('The number of survived seed y')\n",
    "plt.show()"
   ]
  },
  {
   "cell_type": "markdown",
   "metadata": {},
   "source": [
    "¥begin{equation}\n",
    "frac{1}{1+exp(-z_{i})}=exp(z_{i})  ¥¥\n",
    "=exp(¥beta_{1})exp(¥beta_{2}x_{i})exp(¥beta_{2}f_{i})  ¥¥\n",
    "¥end{equation}\n",
    "\n"
   ]
  },
  {
   "cell_type": "markdown",
   "metadata": {},
   "source": [
    "オッズ(odds)  \n",
    "\n",
    "ギャンブルとかでよく聞く単語ですね。オッズが低い程、勝ったときの儲けは上がります。  \n",
    "例えばサイコロの目で6が出るとかに賭けたとすると、確率は1/6=0.167で、  \n",
    "オッズ＝0.167/1-0.167=0.20になって、100円賭けてると、100/0.20=500円の儲けになりますよ、という感じ  \n",
    "複数賭けが可能なら、たとえば6以外の目が出るのに賭けてみましょう。5/6=0.833\n",
    "オッズ=0.833/0.167=4.99になって、100/4.99=20円の儲けです。うーん。これでも10000賭けたら2000儲かるとなると、かなりおいしいような気がするのですがどうか。なんか計算間違ってる気がする・・・こんなに儲けなさそう。"
   ]
  },
  {
   "cell_type": "markdown",
   "metadata": {},
   "source": [
    "そして、今回のオッズは$frac{1}{1+exp(-z_{i})} ¥propto exp(1.95x_{i})exp(2.02f_{i})$  \n",
    "となり、例えば個体iの大きさが1単位増加したら、exp(1.95)~7倍の増加\n",
    "施肥処理をした場合だと、exp(2.02)~7.5倍の増加\n",
    "Xをすると、病気になるリスクが7倍→このリスクが、xとそうでない場合のオッズ比"
   ]
  },
  {
   "cell_type": "markdown",
   "metadata": {
    "collapsed": false
   },
   "source": [
    "6.4 ロジスティック回帰のモデル選択"
   ]
  },
  {
   "cell_type": "code",
   "execution_count": 50,
   "metadata": {
    "collapsed": false
   },
   "outputs": [
    {
     "name": "stdout",
     "output_type": "stream",
     "text": [
      "                 Generalized Linear Model Regression Results                  \n",
      "==============================================================================\n",
      "Dep. Variable:      ['y', 'I(N - y)']   No. Observations:                  100\n",
      "Model:                            GLM   Df Residuals:                       97\n",
      "Model Family:                Binomial   Df Model:                            2\n",
      "Link Function:                  logit   Scale:                             1.0\n",
      "Method:                          IRLS   Log-Likelihood:                -133.11\n",
      "Date:                Tue, 17 May 2016   Deviance:                       123.03\n",
      "Time:                        02:03:49   Pearson chi2:                     109.\n",
      "No. Iterations:                     8                                         \n",
      "==============================================================================\n",
      "                 coef    std err          z      P>|z|      [95.0% Conf. Int.]\n",
      "------------------------------------------------------------------------------\n",
      "Intercept    -19.5361      1.414    -13.818      0.000       -22.307   -16.765\n",
      "f[T.T]         2.0215      0.231      8.740      0.000         1.568     2.475\n",
      "x              1.9524      0.139     14.059      0.000         1.680     2.225\n",
      "==============================================================================\n"
     ]
    }
   ],
   "source": [
    "model1 = smf.glm('y + I(N-y) ~ x+f', data=data4a_pd, family=sm.families.Binomial()) \n",
    "results1 = model1.fit()\n",
    "print(results1.summary())"
   ]
  },
  {
   "cell_type": "code",
   "execution_count": 51,
   "metadata": {
    "collapsed": false,
    "scrolled": true
   },
   "outputs": [
    {
     "name": "stdout",
     "output_type": "stream",
     "text": [
      "                 Generalized Linear Model Regression Results                  \n",
      "==============================================================================\n",
      "Dep. Variable:      ['y', 'I(N - y)']   No. Observations:                  100\n",
      "Model:                            GLM   Df Residuals:                       98\n",
      "Model Family:                Binomial   Df Model:                            1\n",
      "Link Function:                  logit   Scale:                             1.0\n",
      "Method:                          IRLS   Log-Likelihood:                -180.17\n",
      "Date:                Tue, 17 May 2016   Deviance:                       217.17\n",
      "Time:                        02:04:01   Pearson chi2:                     185.\n",
      "No. Iterations:                     7                                         \n",
      "==============================================================================\n",
      "                 coef    std err          z      P>|z|      [95.0% Conf. Int.]\n",
      "------------------------------------------------------------------------------\n",
      "Intercept    -13.7785      1.077    -12.789      0.000       -15.890   -11.667\n",
      "x              1.4626      0.111     13.214      0.000         1.246     1.680\n",
      "==============================================================================\n"
     ]
    }
   ],
   "source": [
    "model2 = smf.glm('y + I(N-y) ~ x', data=data4a_pd, family=sm.families.Binomial())\n",
    "results2 = model2.fit()\n",
    "print(results2.summary())"
   ]
  },
  {
   "cell_type": "code",
   "execution_count": 53,
   "metadata": {
    "collapsed": false
   },
   "outputs": [
    {
     "name": "stdout",
     "output_type": "stream",
     "text": [
      "                 Generalized Linear Model Regression Results                  \n",
      "==============================================================================\n",
      "Dep. Variable:      ['y', 'I(N - y)']   No. Observations:                  100\n",
      "Model:                            GLM   Df Residuals:                       98\n",
      "Model Family:                Binomial   Df Model:                            1\n",
      "Link Function:                  logit   Scale:                             1.0\n",
      "Method:                          IRLS   Log-Likelihood:                -316.88\n",
      "Date:                Tue, 17 May 2016   Deviance:                       490.58\n",
      "Time:                        02:04:10   Pearson chi2:                     399.\n",
      "No. Iterations:                     6                                         \n",
      "==============================================================================\n",
      "                 coef    std err          z      P>|z|      [95.0% Conf. Int.]\n",
      "------------------------------------------------------------------------------\n",
      "Intercept      0.3433      0.101      3.383      0.001         0.144     0.542\n",
      "f[T.T]         0.4335      0.148      2.930      0.003         0.144     0.723\n",
      "==============================================================================\n"
     ]
    }
   ],
   "source": [
    "model3 = smf.glm('y + I(N-y)~ f', data=data4a_pd, family=sm.families.Binomial()) #family: 分布関数の指定\n",
    "results3 = model3.fit()\n",
    "print(results3.summary())"
   ]
  },
  {
   "cell_type": "code",
   "execution_count": 54,
   "metadata": {
    "collapsed": false
   },
   "outputs": [
    {
     "name": "stdout",
     "output_type": "stream",
     "text": [
      "                 Generalized Linear Model Regression Results                  \n",
      "==============================================================================\n",
      "Dep. Variable:      ['y', 'I(N - y)']   No. Observations:                  100\n",
      "Model:                            GLM   Df Residuals:                       99\n",
      "Model Family:                Binomial   Df Model:                            0\n",
      "Link Function:                  logit   Scale:                             1.0\n",
      "Method:                          IRLS   Log-Likelihood:                -321.20\n",
      "Date:                Tue, 17 May 2016   Deviance:                       499.23\n",
      "Time:                        02:04:17   Pearson chi2:                     402.\n",
      "No. Iterations:                     6                                         \n",
      "==============================================================================\n",
      "                 coef    std err          z      P>|z|      [95.0% Conf. Int.]\n",
      "------------------------------------------------------------------------------\n",
      "Intercept      0.5537      0.073      7.540      0.000         0.410     0.698\n",
      "==============================================================================\n"
     ]
    }
   ],
   "source": [
    "model4 = smf.glm('y + I(N-y) ~ 1', data=data4a_pd, family=sm.families.Binomial()) #family: 分布関数の指定\n",
    "results4 = model4.fit()\n",
    "print(results4.summary())"
   ]
  },
  {
   "cell_type": "code",
   "execution_count": 79,
   "metadata": {
    "collapsed": false
   },
   "outputs": [
    {
     "name": "stdout",
     "output_type": "stream",
     "text": [
      "                 Generalized Linear Model Regression Results                  \n",
      "==============================================================================\n",
      "Dep. Variable:      ['y', 'I(N - y)']   No. Observations:                  100\n",
      "Model:                            GLM   Df Residuals:                       91\n",
      "Model Family:                Binomial   Df Model:                            8\n",
      "Link Function:                  logit   Scale:                             1.0\n",
      "Method:                          IRLS   Log-Likelihood:                -131.54\n",
      "Date:                Tue, 17 May 2016   Deviance:                       119.90\n",
      "Time:                        02:17:06   Pearson chi2:                     107.\n",
      "No. Iterations:                    14                                         \n",
      "==============================================================================\n",
      "                 coef    std err          z      P>|z|      [95.0% Conf. Int.]\n",
      "------------------------------------------------------------------------------\n",
      "Intercept  -3.227e+04   3.54e+04     -0.912      0.362     -1.02e+05  3.71e+04\n",
      "f[T.T]         2.0149      0.235      8.587      0.000         1.555     2.475\n",
      "x          -2.762e+04      3e+04     -0.919      0.358     -8.65e+04  3.13e+04\n",
      "I(x ** 2)   2.903e+04   3.24e+04      0.897      0.370     -3.44e+04  9.25e+04\n",
      "I(x ** 3)  -9776.8950   1.11e+04     -0.880      0.379     -3.16e+04   1.2e+04\n",
      "I(x ** 4)   1725.9693   1997.278      0.864      0.387     -2188.623  5640.562\n",
      "I(x ** 5)   -178.6098    210.463     -0.849      0.396      -591.110   233.890\n",
      "I(x ** 6)     10.9495     13.138      0.833      0.405       -14.801    36.700\n",
      "I(x ** 7)     -0.3698      0.452     -0.818      0.413        -1.255     0.516\n",
      "I(x ** 8)      0.0053      0.007      0.804      0.422        -0.008     0.018\n",
      "==============================================================================\n"
     ]
    }
   ],
   "source": [
    "model5 = smf.glm('y + I(N-y)~ x + I(x**2) +I(x**3) +I(x**4) +I(x**5) +I(x**6) +I(x**7) +I(x**8) + f', data=data4a_pd, family=sm.families.Binomial())\n",
    "results5=model5.fit()\n",
    "print(results5.summary())"
   ]
  },
  {
   "cell_type": "code",
   "execution_count": 81,
   "metadata": {
    "collapsed": false,
    "scrolled": true
   },
   "outputs": [
    {
     "name": "stdout",
     "output_type": "stream",
     "text": [
      "Log_likelihood\n",
      "-133.105564643\n",
      "-180.172721642\n",
      "-316.879876728\n",
      "-321.204670831\n",
      "-131.540524228\n"
     ]
    }
   ],
   "source": [
    "print 'Log_likelihood'\n",
    "print results1.llf #x+f\n",
    "print results2.llf #x\n",
    "print results3.llf #f\n",
    "print results4.llf #const\n",
    "print results5.llf #full(8th-order)\n"
   ]
  },
  {
   "cell_type": "markdown",
   "metadata": {},
   "source": [
    "3章同様フルモデルが最大対数尤度が高い。"
   ]
  },
  {
   "cell_type": "code",
   "execution_count": 86,
   "metadata": {
    "collapsed": false
   },
   "outputs": [
    {
     "name": "stdout",
     "output_type": "stream",
     "text": [
      "AIC\n",
      "272.211129285\n",
      "364.345443284\n",
      "637.759753457\n",
      "644.409341662\n",
      "281.081048456\n"
     ]
    }
   ],
   "source": [
    "print 'AIC'\n",
    "print -2*(results1.llf-3) #x+f\n",
    "print -2*(results2.llf-2) #x\n",
    "print -2*(results3.llf-2) #f\n",
    "print -2*(results4.llf-1) #const\n",
    "print -2*(results5.llf-9) #full(8th-order)\n"
   ]
  },
  {
   "cell_type": "markdown",
   "metadata": {},
   "source": [
    "fullモデルは本当は100次式(AIC=343.2)  \n",
    "今回x+fモデルが、AICの観点で最良"
   ]
  },
  {
   "cell_type": "markdown",
   "metadata": {},
   "source": [
    "6.5 交互作用項の入った線形予測子  \n",
    "確率に関わるものの掛け合わせ\n"
   ]
  },
  {
   "cell_type": "code",
   "execution_count": 84,
   "metadata": {
    "collapsed": false
   },
   "outputs": [
    {
     "name": "stdout",
     "output_type": "stream",
     "text": [
      "                 Generalized Linear Model Regression Results                  \n",
      "==============================================================================\n",
      "Dep. Variable:      ['y', 'I(N - y)']   No. Observations:                  100\n",
      "Model:                            GLM   Df Residuals:                       96\n",
      "Model Family:                Binomial   Df Model:                            3\n",
      "Link Function:                  logit   Scale:                             1.0\n",
      "Method:                          IRLS   Log-Likelihood:                -132.81\n",
      "Date:                Tue, 17 May 2016   Deviance:                       122.43\n",
      "Time:                        07:52:39   Pearson chi2:                     109.\n",
      "No. Iterations:                     8                                         \n",
      "==============================================================================\n",
      "                 coef    std err          z      P>|z|      [95.0% Conf. Int.]\n",
      "------------------------------------------------------------------------------\n",
      "Intercept    -18.5233      1.886     -9.821      0.000       -22.220   -14.827\n",
      "f[T.T]        -0.0638      2.704     -0.024      0.981        -5.363     5.235\n",
      "x              1.8525      0.186      9.983      0.000         1.489     2.216\n",
      "x:f[T.T]       0.2163      0.280      0.772      0.440        -0.333     0.765\n",
      "==============================================================================\n"
     ]
    }
   ],
   "source": [
    "model = smf.glm('y + I(N-y) ~ x*f', data=data4a_pd, family=sm.families.Binomial()) \n",
    "results = model.fit()\n",
    "print(results.summary())"
   ]
  },
  {
   "cell_type": "markdown",
   "metadata": {},
   "source": [
    "この時、AIC=-2*(logL*-k)=-2*(-132.81-4)=273.62  \n",
    "x*fとx+fモデルの間に違いはほぼ無いが(p129・図6.9と式)、今回はx+fモデルの方が良い  \n",
    "交互作用項はその数字だけみてもわからない事が多いので、図示する必要あり。  \n",
    "★むやみに交互作用項を入れない   \n",
    "・変数が多い場合、組み合わせ数が増えて推定できない  \n",
    "・交互作用項が多い統計モデルが最良と判定される場合、作用効果を過大評価しているおそれあり  \n",
    "以上から、過度に複雑なモデルが選ばれる危険がある"
   ]
  },
  {
   "cell_type": "markdown",
   "metadata": {},
   "source": [
    "6.6 割り算値の統計モデリングはやめよう  \n",
    "ロジスティック回帰の利点は、確率を考える時に観測データの割り算が必要ない事  \n",
    "割り算値を使用した場合、  \n",
    "・情報が失われる  \n",
    "・変換値の分布がどうなるか→誤差の影響がある  \n",
    "6.6.1 割り算値入らずのオフセット項わざ  \n",
    "割り算使わなくても、もっと良い統計モデルがあるはず  \n",
    "各調査地での植物の人口密度と、明るさの関係を調べたい\n",
    "y : 植物個体数  \n",
    "x : 明るさ\n",
    "A : 面積"
   ]
  },
  {
   "cell_type": "code",
   "execution_count": 87,
   "metadata": {
    "collapsed": true
   },
   "outputs": [],
   "source": [
    "data4b_pd=pd.read_csv('./data4b.csv')"
   ]
  },
  {
   "cell_type": "code",
   "execution_count": 88,
   "metadata": {
    "collapsed": false
   },
   "outputs": [
    {
     "data": {
      "text/html": [
       "<div>\n",
       "<table border=\"1\" class=\"dataframe\">\n",
       "  <thead>\n",
       "    <tr style=\"text-align: right;\">\n",
       "      <th></th>\n",
       "      <th>y</th>\n",
       "      <th>x</th>\n",
       "      <th>A</th>\n",
       "    </tr>\n",
       "  </thead>\n",
       "  <tbody>\n",
       "    <tr>\n",
       "      <th>0</th>\n",
       "      <td>57</td>\n",
       "      <td>0.68</td>\n",
       "      <td>10.3</td>\n",
       "    </tr>\n",
       "    <tr>\n",
       "      <th>1</th>\n",
       "      <td>64</td>\n",
       "      <td>0.27</td>\n",
       "      <td>15.6</td>\n",
       "    </tr>\n",
       "    <tr>\n",
       "      <th>2</th>\n",
       "      <td>49</td>\n",
       "      <td>0.46</td>\n",
       "      <td>10.0</td>\n",
       "    </tr>\n",
       "    <tr>\n",
       "      <th>3</th>\n",
       "      <td>64</td>\n",
       "      <td>0.45</td>\n",
       "      <td>14.9</td>\n",
       "    </tr>\n",
       "    <tr>\n",
       "      <th>4</th>\n",
       "      <td>82</td>\n",
       "      <td>0.74</td>\n",
       "      <td>14.0</td>\n",
       "    </tr>\n",
       "    <tr>\n",
       "      <th>5</th>\n",
       "      <td>29</td>\n",
       "      <td>0.15</td>\n",
       "      <td>9.6</td>\n",
       "    </tr>\n",
       "    <tr>\n",
       "      <th>6</th>\n",
       "      <td>37</td>\n",
       "      <td>0.50</td>\n",
       "      <td>11.8</td>\n",
       "    </tr>\n",
       "    <tr>\n",
       "      <th>7</th>\n",
       "      <td>33</td>\n",
       "      <td>0.57</td>\n",
       "      <td>6.8</td>\n",
       "    </tr>\n",
       "    <tr>\n",
       "      <th>8</th>\n",
       "      <td>61</td>\n",
       "      <td>0.79</td>\n",
       "      <td>11.8</td>\n",
       "    </tr>\n",
       "    <tr>\n",
       "      <th>9</th>\n",
       "      <td>46</td>\n",
       "      <td>0.57</td>\n",
       "      <td>9.5</td>\n",
       "    </tr>\n",
       "    <tr>\n",
       "      <th>10</th>\n",
       "      <td>61</td>\n",
       "      <td>0.80</td>\n",
       "      <td>10.5</td>\n",
       "    </tr>\n",
       "    <tr>\n",
       "      <th>11</th>\n",
       "      <td>30</td>\n",
       "      <td>0.62</td>\n",
       "      <td>6.8</td>\n",
       "    </tr>\n",
       "    <tr>\n",
       "      <th>12</th>\n",
       "      <td>45</td>\n",
       "      <td>0.84</td>\n",
       "      <td>6.4</td>\n",
       "    </tr>\n",
       "    <tr>\n",
       "      <th>13</th>\n",
       "      <td>21</td>\n",
       "      <td>0.36</td>\n",
       "      <td>6.0</td>\n",
       "    </tr>\n",
       "    <tr>\n",
       "      <th>14</th>\n",
       "      <td>39</td>\n",
       "      <td>0.49</td>\n",
       "      <td>11.9</td>\n",
       "    </tr>\n",
       "    <tr>\n",
       "      <th>15</th>\n",
       "      <td>43</td>\n",
       "      <td>0.57</td>\n",
       "      <td>10.1</td>\n",
       "    </tr>\n",
       "    <tr>\n",
       "      <th>16</th>\n",
       "      <td>54</td>\n",
       "      <td>0.55</td>\n",
       "      <td>12.0</td>\n",
       "    </tr>\n",
       "    <tr>\n",
       "      <th>17</th>\n",
       "      <td>24</td>\n",
       "      <td>0.13</td>\n",
       "      <td>9.0</td>\n",
       "    </tr>\n",
       "    <tr>\n",
       "      <th>18</th>\n",
       "      <td>33</td>\n",
       "      <td>0.65</td>\n",
       "      <td>7.1</td>\n",
       "    </tr>\n",
       "    <tr>\n",
       "      <th>19</th>\n",
       "      <td>39</td>\n",
       "      <td>0.62</td>\n",
       "      <td>7.4</td>\n",
       "    </tr>\n",
       "    <tr>\n",
       "      <th>20</th>\n",
       "      <td>53</td>\n",
       "      <td>0.52</td>\n",
       "      <td>12.4</td>\n",
       "    </tr>\n",
       "    <tr>\n",
       "      <th>21</th>\n",
       "      <td>44</td>\n",
       "      <td>0.64</td>\n",
       "      <td>8.3</td>\n",
       "    </tr>\n",
       "    <tr>\n",
       "      <th>22</th>\n",
       "      <td>50</td>\n",
       "      <td>0.42</td>\n",
       "      <td>12.1</td>\n",
       "    </tr>\n",
       "    <tr>\n",
       "      <th>23</th>\n",
       "      <td>52</td>\n",
       "      <td>0.67</td>\n",
       "      <td>8.4</td>\n",
       "    </tr>\n",
       "    <tr>\n",
       "      <th>24</th>\n",
       "      <td>59</td>\n",
       "      <td>0.52</td>\n",
       "      <td>11.4</td>\n",
       "    </tr>\n",
       "    <tr>\n",
       "      <th>25</th>\n",
       "      <td>33</td>\n",
       "      <td>0.19</td>\n",
       "      <td>11.5</td>\n",
       "    </tr>\n",
       "    <tr>\n",
       "      <th>26</th>\n",
       "      <td>38</td>\n",
       "      <td>0.58</td>\n",
       "      <td>9.0</td>\n",
       "    </tr>\n",
       "    <tr>\n",
       "      <th>27</th>\n",
       "      <td>46</td>\n",
       "      <td>0.48</td>\n",
       "      <td>10.5</td>\n",
       "    </tr>\n",
       "    <tr>\n",
       "      <th>28</th>\n",
       "      <td>30</td>\n",
       "      <td>0.22</td>\n",
       "      <td>9.6</td>\n",
       "    </tr>\n",
       "    <tr>\n",
       "      <th>29</th>\n",
       "      <td>35</td>\n",
       "      <td>0.24</td>\n",
       "      <td>11.9</td>\n",
       "    </tr>\n",
       "    <tr>\n",
       "      <th>...</th>\n",
       "      <td>...</td>\n",
       "      <td>...</td>\n",
       "      <td>...</td>\n",
       "    </tr>\n",
       "    <tr>\n",
       "      <th>70</th>\n",
       "      <td>54</td>\n",
       "      <td>0.50</td>\n",
       "      <td>10.3</td>\n",
       "    </tr>\n",
       "    <tr>\n",
       "      <th>71</th>\n",
       "      <td>76</td>\n",
       "      <td>0.59</td>\n",
       "      <td>14.8</td>\n",
       "    </tr>\n",
       "    <tr>\n",
       "      <th>72</th>\n",
       "      <td>70</td>\n",
       "      <td>0.52</td>\n",
       "      <td>14.2</td>\n",
       "    </tr>\n",
       "    <tr>\n",
       "      <th>73</th>\n",
       "      <td>36</td>\n",
       "      <td>0.33</td>\n",
       "      <td>9.8</td>\n",
       "    </tr>\n",
       "    <tr>\n",
       "      <th>74</th>\n",
       "      <td>38</td>\n",
       "      <td>0.23</td>\n",
       "      <td>10.1</td>\n",
       "    </tr>\n",
       "    <tr>\n",
       "      <th>75</th>\n",
       "      <td>48</td>\n",
       "      <td>0.41</td>\n",
       "      <td>12.3</td>\n",
       "    </tr>\n",
       "    <tr>\n",
       "      <th>76</th>\n",
       "      <td>36</td>\n",
       "      <td>0.38</td>\n",
       "      <td>10.6</td>\n",
       "    </tr>\n",
       "    <tr>\n",
       "      <th>77</th>\n",
       "      <td>43</td>\n",
       "      <td>0.49</td>\n",
       "      <td>11.2</td>\n",
       "    </tr>\n",
       "    <tr>\n",
       "      <th>78</th>\n",
       "      <td>69</td>\n",
       "      <td>0.72</td>\n",
       "      <td>13.3</td>\n",
       "    </tr>\n",
       "    <tr>\n",
       "      <th>79</th>\n",
       "      <td>55</td>\n",
       "      <td>0.44</td>\n",
       "      <td>13.6</td>\n",
       "    </tr>\n",
       "    <tr>\n",
       "      <th>80</th>\n",
       "      <td>51</td>\n",
       "      <td>0.41</td>\n",
       "      <td>13.4</td>\n",
       "    </tr>\n",
       "    <tr>\n",
       "      <th>81</th>\n",
       "      <td>26</td>\n",
       "      <td>0.15</td>\n",
       "      <td>9.4</td>\n",
       "    </tr>\n",
       "    <tr>\n",
       "      <th>82</th>\n",
       "      <td>62</td>\n",
       "      <td>0.62</td>\n",
       "      <td>12.0</td>\n",
       "    </tr>\n",
       "    <tr>\n",
       "      <th>83</th>\n",
       "      <td>42</td>\n",
       "      <td>0.99</td>\n",
       "      <td>5.7</td>\n",
       "    </tr>\n",
       "    <tr>\n",
       "      <th>84</th>\n",
       "      <td>46</td>\n",
       "      <td>0.50</td>\n",
       "      <td>9.9</td>\n",
       "    </tr>\n",
       "    <tr>\n",
       "      <th>85</th>\n",
       "      <td>67</td>\n",
       "      <td>0.75</td>\n",
       "      <td>12.9</td>\n",
       "    </tr>\n",
       "    <tr>\n",
       "      <th>86</th>\n",
       "      <td>67</td>\n",
       "      <td>0.65</td>\n",
       "      <td>13.4</td>\n",
       "    </tr>\n",
       "    <tr>\n",
       "      <th>87</th>\n",
       "      <td>68</td>\n",
       "      <td>0.55</td>\n",
       "      <td>12.8</td>\n",
       "    </tr>\n",
       "    <tr>\n",
       "      <th>88</th>\n",
       "      <td>19</td>\n",
       "      <td>0.46</td>\n",
       "      <td>4.9</td>\n",
       "    </tr>\n",
       "    <tr>\n",
       "      <th>89</th>\n",
       "      <td>47</td>\n",
       "      <td>0.44</td>\n",
       "      <td>10.0</td>\n",
       "    </tr>\n",
       "    <tr>\n",
       "      <th>90</th>\n",
       "      <td>41</td>\n",
       "      <td>0.62</td>\n",
       "      <td>9.0</td>\n",
       "    </tr>\n",
       "    <tr>\n",
       "      <th>91</th>\n",
       "      <td>69</td>\n",
       "      <td>0.22</td>\n",
       "      <td>16.8</td>\n",
       "    </tr>\n",
       "    <tr>\n",
       "      <th>92</th>\n",
       "      <td>33</td>\n",
       "      <td>0.05</td>\n",
       "      <td>11.4</td>\n",
       "    </tr>\n",
       "    <tr>\n",
       "      <th>93</th>\n",
       "      <td>46</td>\n",
       "      <td>0.43</td>\n",
       "      <td>11.2</td>\n",
       "    </tr>\n",
       "    <tr>\n",
       "      <th>94</th>\n",
       "      <td>74</td>\n",
       "      <td>0.58</td>\n",
       "      <td>17.4</td>\n",
       "    </tr>\n",
       "    <tr>\n",
       "      <th>95</th>\n",
       "      <td>57</td>\n",
       "      <td>0.76</td>\n",
       "      <td>9.8</td>\n",
       "    </tr>\n",
       "    <tr>\n",
       "      <th>96</th>\n",
       "      <td>49</td>\n",
       "      <td>0.17</td>\n",
       "      <td>12.5</td>\n",
       "    </tr>\n",
       "    <tr>\n",
       "      <th>97</th>\n",
       "      <td>95</td>\n",
       "      <td>0.98</td>\n",
       "      <td>11.4</td>\n",
       "    </tr>\n",
       "    <tr>\n",
       "      <th>98</th>\n",
       "      <td>27</td>\n",
       "      <td>0.54</td>\n",
       "      <td>5.4</td>\n",
       "    </tr>\n",
       "    <tr>\n",
       "      <th>99</th>\n",
       "      <td>71</td>\n",
       "      <td>0.47</td>\n",
       "      <td>13.5</td>\n",
       "    </tr>\n",
       "  </tbody>\n",
       "</table>\n",
       "<p>100 rows × 3 columns</p>\n",
       "</div>"
      ],
      "text/plain": [
       "     y     x     A\n",
       "0   57  0.68  10.3\n",
       "1   64  0.27  15.6\n",
       "2   49  0.46  10.0\n",
       "3   64  0.45  14.9\n",
       "4   82  0.74  14.0\n",
       "5   29  0.15   9.6\n",
       "6   37  0.50  11.8\n",
       "7   33  0.57   6.8\n",
       "8   61  0.79  11.8\n",
       "9   46  0.57   9.5\n",
       "10  61  0.80  10.5\n",
       "11  30  0.62   6.8\n",
       "12  45  0.84   6.4\n",
       "13  21  0.36   6.0\n",
       "14  39  0.49  11.9\n",
       "15  43  0.57  10.1\n",
       "16  54  0.55  12.0\n",
       "17  24  0.13   9.0\n",
       "18  33  0.65   7.1\n",
       "19  39  0.62   7.4\n",
       "20  53  0.52  12.4\n",
       "21  44  0.64   8.3\n",
       "22  50  0.42  12.1\n",
       "23  52  0.67   8.4\n",
       "24  59  0.52  11.4\n",
       "25  33  0.19  11.5\n",
       "26  38  0.58   9.0\n",
       "27  46  0.48  10.5\n",
       "28  30  0.22   9.6\n",
       "29  35  0.24  11.9\n",
       "..  ..   ...   ...\n",
       "70  54  0.50  10.3\n",
       "71  76  0.59  14.8\n",
       "72  70  0.52  14.2\n",
       "73  36  0.33   9.8\n",
       "74  38  0.23  10.1\n",
       "75  48  0.41  12.3\n",
       "76  36  0.38  10.6\n",
       "77  43  0.49  11.2\n",
       "78  69  0.72  13.3\n",
       "79  55  0.44  13.6\n",
       "80  51  0.41  13.4\n",
       "81  26  0.15   9.4\n",
       "82  62  0.62  12.0\n",
       "83  42  0.99   5.7\n",
       "84  46  0.50   9.9\n",
       "85  67  0.75  12.9\n",
       "86  67  0.65  13.4\n",
       "87  68  0.55  12.8\n",
       "88  19  0.46   4.9\n",
       "89  47  0.44  10.0\n",
       "90  41  0.62   9.0\n",
       "91  69  0.22  16.8\n",
       "92  33  0.05  11.4\n",
       "93  46  0.43  11.2\n",
       "94  74  0.58  17.4\n",
       "95  57  0.76   9.8\n",
       "96  49  0.17  12.5\n",
       "97  95  0.98  11.4\n",
       "98  27  0.54   5.4\n",
       "99  71  0.47  13.5\n",
       "\n",
       "[100 rows x 3 columns]"
      ]
     },
     "execution_count": 88,
     "metadata": {},
     "output_type": "execute_result"
    }
   ],
   "source": [
    "data4b_pd"
   ]
  },
  {
   "cell_type": "code",
   "execution_count": 90,
   "metadata": {
    "collapsed": false
   },
   "outputs": [],
   "source": [
    "plt.scatter(data4b_pd['A'],data4b_pd['y'])\n",
    "plt.xlabel('The size of region A')\n",
    "plt.ylabel('The number of plants y')\n",
    "plt.show()\n",
    "#データの分布をプロット"
   ]
  },
  {
   "cell_type": "markdown",
   "metadata": {},
   "source": [
    "人口密度を現すのに、割り算値を使う必要は無い  \n",
    "p133式参照・人口密度を線形予測子で現す事で、オフセット項を含んだ対数リンク・ポアソン分布のGLMとなる。"
   ]
  },
  {
   "cell_type": "code",
   "execution_count": 99,
   "metadata": {
    "collapsed": false
   },
   "outputs": [
    {
     "name": "stdout",
     "output_type": "stream",
     "text": [
      "                 Generalized Linear Model Regression Results                  \n",
      "==============================================================================\n",
      "Dep. Variable:                      y   No. Observations:                  100\n",
      "Model:                            GLM   Df Residuals:                       98\n",
      "Model Family:                 Poisson   Df Model:                            1\n",
      "Link Function:                    log   Scale:                             1.0\n",
      "Method:                          IRLS   Log-Likelihood:                -323.17\n",
      "Date:                Tue, 17 May 2016   Deviance:                       81.608\n",
      "Time:                        09:25:12   Pearson chi2:                     81.5\n",
      "No. Iterations:                     7                                         \n",
      "==============================================================================\n",
      "                 coef    std err          z      P>|z|      [95.0% Conf. Int.]\n",
      "------------------------------------------------------------------------------\n",
      "Intercept      0.9731      0.045     21.600      0.000         0.885     1.061\n",
      "x              1.0383      0.078     13.364      0.000         0.886     1.191\n",
      "==============================================================================\n"
     ]
    }
   ],
   "source": [
    "model = smf.glm('y ~ x', offset=np.log(data4b_pd.A), data=data4b_pd, family=sm.families.Poisson())#オフセット項を入れる\n",
    "results = model.fit()\n",
    "print(results.summary())  \n",
    "b1, b2=results.params"
   ]
  },
  {
   "cell_type": "markdown",
   "metadata": {},
   "source": [
    "オフセット項により、数が面積に比例する効果を反映させつつ、明るさの効果を推定できる"
   ]
  },
  {
   "cell_type": "code",
   "execution_count": 101,
   "metadata": {
    "collapsed": true
   },
   "outputs": [],
   "source": [
    "A_test=np.arange(0,20,0.1)\n",
    "ave_1=np.exp(b1+b2*0.1+np.log(A_test))\n",
    "ave_2=np.exp(b1+b2*0.3+np.log(A_test))\n",
    "ave_3=np.exp(b1+b2*0.5+np.log(A_test))\n",
    "ave_4=np.exp(b1+b2*0.7+np.log(A_test))\n",
    "ave_5=np.exp(b1+b2*0.9+np.log(A_test))\n",
    "plt.scatter(data4b_pd['A'],data4b_pd['y'])\n",
    "plt.plot(A_test,ave_1,c='b')\n",
    "plt.plot(A_test,ave_2,c='g')\n",
    "plt.plot(A_test,ave_3,c='y')\n",
    "plt.plot(A_test,ave_4,c='orange')\n",
    "plt.plot(A_test,ave_5,c='r')\n",
    "plt.xlabel('The size of region A')\n",
    "plt.ylabel('The number of plants y')\n",
    "plt.xlim(0,20)\n",
    "plt.ylim(0,110)\n",
    "plt.show()"
   ]
  },
  {
   "cell_type": "markdown",
   "metadata": {},
   "source": [
    "明るい程個体数は増加している  \n",
    "単位XX(面積とか時間)あたりの何かについて考える時、今回のようにXXの対数をとるなどしてオフセット項にすることで、統計モデリングが可能"
   ]
  },
  {
   "cell_type": "markdown",
   "metadata": {},
   "source": [
    "6.7 正規分布とその尤度  \n",
    "正規分布 - 連続値のデータを扱う  \n",
    "平均値$¥mu$、標準偏差$¥sigma$の指定が可能  "
   ]
  },
  {
   "cell_type": "code",
   "execution_count": 119,
   "metadata": {
    "collapsed": false
   },
   "outputs": [
    {
     "data": {
      "text/plain": [
       "0.053990966513188063"
      ]
     },
     "execution_count": 119,
     "metadata": {},
     "output_type": "execute_result"
    }
   ],
   "source": [
    "import scipy.stats as sct\n",
    "sct.norm.pdf(x=2.0, loc=0, scale=1) #平均0, 標準偏差1の正規分布に置ける、値が2.0を取る確率(Probability density function=pdf)"
   ]
  },
  {
   "cell_type": "code",
   "execution_count": 117,
   "metadata": {
    "collapsed": false
   },
   "outputs": [],
   "source": [
    "#図示\n",
    "sigma = [1,3,1]\n",
    "mu = [0,0,2]\n",
    "y = np.arange(-5,5, 0.0001)\n",
    "for i in zip(sigma,mu): #sigma,muを同時にループ\n",
    "    p = (1.0/np.sqrt(2*np.pi*i[0])) * np.exp(-(y - i[1])**2/2/i[0])   \n",
    "    plt.plot(y, p)\n",
    "\n",
    "plt.show()"
   ]
  },
  {
   "cell_type": "markdown",
   "metadata": {},
   "source": [
    "正規分布現すの無いのかなと思っていたんですが、探したらありました。scipy.statsを使って、"
   ]
  },
  {
   "cell_type": "code",
   "execution_count": 118,
   "metadata": {
    "collapsed": true
   },
   "outputs": [],
   "source": [
    "plt.subplot(131)\n",
    "plt.plot(y, sct.norm.pdf(y, loc=0, scale=1)) #μ→loc,σ→scale\n",
    "plt.subplot(132)\n",
    "plt.plot(y, sct.norm.pdf(y, loc=0, scale=3))\n",
    "plt.subplot(133)\n",
    "plt.plot(y, sct.norm.pdf(y, loc=2, scale=1))\n",
    "plt.show()"
   ]
  },
  {
   "cell_type": "markdown",
   "metadata": {},
   "source": [
    "確率変数が$1.2 ¥leq y ¥leq 1.8$をとる確率(教科書図6.11の塗られた部分)"
   ]
  },
  {
   "cell_type": "code",
   "execution_count": 121,
   "metadata": {
    "collapsed": false
   },
   "outputs": [
    {
     "data": {
      "text/plain": [
       "0.079139351108782452"
      ]
     },
     "execution_count": 121,
     "metadata": {},
     "output_type": "execute_result"
    }
   ],
   "source": [
    "#累積分布関数を求める(Cumulative density function= cdf)\n",
    "sct.norm.cdf(x=1.8, loc=0, scale=1)-sct.norm.cdf(x=1.2, loc=0, scale=1)"
   ]
  },
  {
   "cell_type": "markdown",
   "metadata": {},
   "source": [
    "長方形近似してみると、横幅を$¥delta y = 1.8-1.2 =0.6$、縦を中心であるy=1.5の確率とすれば  "
   ]
  },
  {
   "cell_type": "code",
   "execution_count": 122,
   "metadata": {
    "collapsed": false
   },
   "outputs": [
    {
     "data": {
      "text/plain": [
       "0.077710557399535043"
      ]
     },
     "execution_count": 122,
     "metadata": {},
     "output_type": "execute_result"
    }
   ],
   "source": [
    "sct.norm.pdf(1.5, 0, 1) * 0.6"
   ]
  },
  {
   "cell_type": "markdown",
   "metadata": {},
   "source": [
    "幅が狭いほど、精度はよくなる  \n",
    "上記の確率=確率密度関数*$¥delta y$という考え方に基づいて、最尤推定→尤度関数はp.136  \n",
    "$¥delta y$は定数になるため、最尤推定値に影響しない。よって、対数尤度関数はp.137２つ目  \n",
    "\n",
    "尤度は、確率の積ではなく確率密度の積になっている為、対数尤度は負になるとはかぎらないので、正規分布などの連続値の確率分布を使用した場合は、AICや逸脱度が負の値になることもある\n",
    "標準偏差が一定の正規分布の最尤推定は、最小二乗法の推定と等しくなる"
   ]
  },
  {
   "cell_type": "markdown",
   "metadata": {},
   "source": [
    "6.8 ガンマ分布のGLM  \n",
    "ガンマ分布は、確率変数の取りうる範囲が0以上の連続確率分布、関数はp138  \n",
    "s:shapeパラメータ  \n",
    "r:rateパラメータ  \n",
    "s/r:平均  \n",
    "s/r^{2}:分散\n",
    "s=1で指数分布  \n",
    "ガンマ関数は、pythonでは"
   ]
  },
  {
   "cell_type": "code",
   "execution_count": 124,
   "metadata": {
    "collapsed": false
   },
   "outputs": [
    {
     "data": {
      "text/plain": [
       "0.36787944117144233"
      ]
     },
     "execution_count": 124,
     "metadata": {},
     "output_type": "execute_result"
    }
   ],
   "source": [
    "sct.gamma.pdf(1, a=1, scale=1) #1/rate=scale, a=shape"
   ]
  },
  {
   "cell_type": "code",
   "execution_count": 130,
   "metadata": {
    "collapsed": false
   },
   "outputs": [],
   "source": [
    "#各ガンマ関数をプロット\n",
    "y = np.arange(0, 5, 0.01)\n",
    "fill=np.arange(1.2,1.8,0.05)\n",
    "plt.subplot(131)\n",
    "plt.plot(y, sct.gamma.pdf(y, a=1, scale=1))\n",
    "plt.fill_between(fill, sct.gamma.pdf(fill, a=1, scale=1), color='r')\n",
    "plt.subplot(132)\n",
    "plt.plot(y, sct.gamma.pdf(y, a=5, scale=0.2))\n",
    "plt.fill_between(fill, sct.gamma.pdf(fill, a=5, scale=0.2), color='r')\n",
    "plt.subplot(133)\n",
    "plt.plot(y, sct.gamma.pdf(y, a=0.1, scale=10))\n",
    "plt.fill_between(fill, sct.gamma.pdf(fill, a=0.1, scale=10), color='r')\n",
    "plt.show()\n"
   ]
  },
  {
   "cell_type": "code",
   "execution_count": 132,
   "metadata": {
    "collapsed": false
   },
   "outputs": [
    {
     "ename": "ImportError",
     "evalue": "No module named pyper",
     "output_type": "error",
     "traceback": [
      "\u001b[0;31m---------------------------------------------------------------------------\u001b[0m",
      "\u001b[0;31mImportError\u001b[0m                               Traceback (most recent call last)",
      "\u001b[0;32m<ipython-input-132-d84db7d4d5bb>\u001b[0m in \u001b[0;36m<module>\u001b[0;34m()\u001b[0m\n\u001b[0;32m----> 1\u001b[0;31m \u001b[0;32mimport\u001b[0m \u001b[0mpyper\u001b[0m \u001b[0;32mas\u001b[0m \u001b[0mpr\u001b[0m\u001b[0;34m\u001b[0m\u001b[0m\n\u001b[0m",
      "\u001b[0;31mImportError\u001b[0m: No module named pyper"
     ]
    }
   ],
   "source": []
  },
  {
   "cell_type": "raw",
   "metadata": {},
   "source": [
    "例題：架空植物50個の花の重量(y)と葉の重量(x)について、xの増加に連れてyも増加  \n",
    "yは正の値しか取らないので、ガンマ分布を利用\n",
    "線形予測子の説明変数は、xではなくlogxとなる"
   ]
  },
  {
   "cell_type": "code",
   "execution_count": 133,
   "metadata": {
    "collapsed": false
   },
   "outputs": [
    {
     "ename": "NameError",
     "evalue": "name 'rdata_pd' is not defined",
     "output_type": "error",
     "traceback": [
      "\u001b[0;31m---------------------------------------------------------------------------\u001b[0m",
      "\u001b[0;31mNameError\u001b[0m                                 Traceback (most recent call last)",
      "\u001b[0;32m<ipython-input-133-0e2fd840a409>\u001b[0m in \u001b[0;36m<module>\u001b[0;34m()\u001b[0m\n\u001b[0;32m----> 1\u001b[0;31m \u001b[0mmodel\u001b[0m \u001b[0;34m=\u001b[0m \u001b[0msmf\u001b[0m\u001b[0;34m.\u001b[0m\u001b[0mglm\u001b[0m\u001b[0;34m(\u001b[0m\u001b[0;34m'y ~ numpy.log(x)'\u001b[0m\u001b[0;34m,\u001b[0m \u001b[0mdata\u001b[0m\u001b[0;34m=\u001b[0m\u001b[0mrdata_pd\u001b[0m\u001b[0;34m,\u001b[0m \u001b[0mfamily\u001b[0m\u001b[0;34m=\u001b[0m\u001b[0msm\u001b[0m\u001b[0;34m.\u001b[0m\u001b[0mfamilies\u001b[0m\u001b[0;34m.\u001b[0m\u001b[0mGamma\u001b[0m\u001b[0;34m(\u001b[0m\u001b[0mlink\u001b[0m\u001b[0;34m=\u001b[0m\u001b[0msm\u001b[0m\u001b[0;34m.\u001b[0m\u001b[0mfamilies\u001b[0m\u001b[0;34m.\u001b[0m\u001b[0mlinks\u001b[0m\u001b[0;34m.\u001b[0m\u001b[0mlog\u001b[0m\u001b[0;34m)\u001b[0m\u001b[0;34m)\u001b[0m\u001b[0;34m\u001b[0m\u001b[0m\n\u001b[0m\u001b[1;32m      2\u001b[0m \u001b[0mresults\u001b[0m\u001b[0;34m=\u001b[0m\u001b[0mmodel\u001b[0m\u001b[0;34m.\u001b[0m\u001b[0mfit\u001b[0m\u001b[0;34m(\u001b[0m\u001b[0;34m)\u001b[0m\u001b[0;34m\u001b[0m\u001b[0m\n\u001b[1;32m      3\u001b[0m \u001b[0;32mprint\u001b[0m\u001b[0;34m(\u001b[0m\u001b[0mresults\u001b[0m\u001b[0;34m.\u001b[0m\u001b[0msummary\u001b[0m\u001b[0;34m(\u001b[0m\u001b[0;34m)\u001b[0m\u001b[0;34m)\u001b[0m\u001b[0;34m\u001b[0m\u001b[0m\n",
      "\u001b[0;31mNameError\u001b[0m: name 'rdata_pd' is not defined"
     ]
    }
   ],
   "source": [
    "model = smf.glm('y ~ numpy.log(x)', data=rdata_pd, family=sm.families.Gamma(link=sm.families.links.log)) ##log(x), gamma分布の指定\n",
    "results=model.fit()\n",
    "print(results.summary()) "
   ]
  },
  {
   "cell_type": "code",
   "execution_count": null,
   "metadata": {
    "collapsed": true
   },
   "outputs": [],
   "source": []
  }
 ],
 "metadata": {
  "kernelspec": {
   "display_name": "Python 2",
   "language": "python",
   "name": "python2"
  },
  "language_info": {
   "codemirror_mode": {
    "name": "ipython",
    "version": 2
   },
   "file_extension": ".py",
   "mimetype": "text/x-python",
   "name": "python",
   "nbconvert_exporter": "python",
   "pygments_lexer": "ipython2",
   "version": "2.7.11"
  }
 },
 "nbformat": 4,
 "nbformat_minor": 0
}
